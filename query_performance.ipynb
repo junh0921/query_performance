{
 "cells": [
  {
   "cell_type": "markdown",
   "metadata": {},
   "source": [
    "# Data Transformation (SQL)\n",
    "\n",
    "## Assignment Details\n",
    "\n",
    "In this project, we'll be working with one month of data from sensors in buildings at UC Berkeley. This is a very typical real-world dataset—i.e. it's kind of a mess. The full dataset contains a giant `data` table of many billions of sensor readings over the course of a decade; we will look at a single month of that data. It also contains a variety of other tables that contextualize the readings."
   ]
  },
  {
   "cell_type": "code",
   "execution_count": 3,
   "metadata": {},
   "outputs": [],
   "source": [
    "# Run this cell to set up imports\n",
    "import numpy as np\n",
    "import pandas as pd"
   ]
  },
  {
   "cell_type": "code",
   "execution_count": 4,
   "metadata": {},
   "outputs": [],
   "source": [
    "%reload_ext sql\n",
    "%sql postgresql://jovyan@127.0.0.1:5432/postgres"
   ]
  },
  {
   "cell_type": "markdown",
   "metadata": {},
   "source": [
    "## Loading Up the Database"
   ]
  },
  {
   "cell_type": "code",
   "execution_count": 5,
   "metadata": {},
   "outputs": [
    {
     "name": "stdout",
     "output_type": "stream",
     "text": [
      " pg_terminate_backend \n",
      "----------------------\n",
      "(0 rows)\n",
      "\n",
      "DROP DATABASE\n",
      "CREATE DATABASE\n",
      "SET\n",
      "SET\n",
      "SET\n",
      "SET\n",
      "SET\n",
      " set_config \n",
      "------------\n",
      " \n",
      "(1 row)\n",
      "\n",
      "SET\n",
      "SET\n",
      "SET\n",
      "SET\n",
      "CREATE EXTENSION\n",
      "COMMENT\n",
      "CREATE EXTENSION\n",
      "COMMENT\n",
      "CREATE FUNCTION\n",
      "ALTER FUNCTION\n",
      "CREATE AGGREGATE\n",
      "ALTER AGGREGATE\n",
      "SET\n",
      "SET\n",
      "CREATE TABLE\n",
      "ALTER TABLE\n",
      "CREATE TABLE\n",
      "ALTER TABLE\n",
      "CREATE TABLE\n",
      "ALTER TABLE\n",
      "CREATE TABLE\n",
      "ALTER TABLE\n",
      "CREATE TABLE\n",
      "ALTER TABLE\n",
      "CREATE TABLE\n",
      "ALTER TABLE\n",
      "CREATE TABLE\n",
      "ALTER TABLE\n",
      "CREATE MATERIALIZED VIEW\n",
      "ALTER TABLE\n",
      "CREATE TABLE\n",
      "ALTER TABLE\n",
      "COPY 92\n",
      "COPY 102386\n",
      "COPY 100000\n",
      "COPY 381\n",
      "COPY 9509\n",
      "COPY 26183\n",
      "COPY 5276\n",
      "COPY 12\n",
      "ALTER TABLE\n",
      "ALTER TABLE\n",
      "ALTER TABLE\n",
      "REFRESH MATERIALIZED VIEW\n"
     ]
    }
   ],
   "source": [
    "import subprocess\n",
    "call = subprocess.run([\"psql\", \"-h\", \"localhost\", \\\n",
    "                       \"-tAc\", \"SELECT 1 FROM pg_database WHERE datname='ucb_buildings'\", \"template1\"], \\\n",
    "                      stdout=subprocess.PIPE, text=True)\n",
    "if call.stdout == \"1\\n\":\n",
    "    !psql postgresql://localhost:5432/ucb_buildings -c 'SELECT pg_terminate_backend(pg_stat_activity.pid) FROM pg_stat_activity WHERE datname = current_database()  AND pid <> pg_backend_pid();'\n",
    "\n",
    "# then delete and recreate database\n",
    "!psql -h localhost -c 'DROP DATABASE IF EXISTS ucb_buildings'\n",
    "!psql -h localhost -c 'CREATE DATABASE ucb_buildings'\n",
    "!gunzip -c data/proj3.sql.gz | psql -h localhost -d ucb_buildings -f -"
   ]
  },
  {
   "cell_type": "code",
   "execution_count": 6,
   "metadata": {},
   "outputs": [
    {
     "data": {
      "text/html": [
       "<span style=\"None\">Connecting and switching to connection postgresql://jovyan@127.0.0.1:5432/ucb_buildings</span>"
      ],
      "text/plain": [
       "Connecting and switching to connection postgresql://jovyan@127.0.0.1:5432/ucb_buildings"
      ]
     },
     "metadata": {},
     "output_type": "display_data"
    }
   ],
   "source": [
    "%sql postgresql://jovyan@127.0.0.1:5432/ucb_buildings"
   ]
  },
  {
   "cell_type": "markdown",
   "metadata": {},
   "source": [
    "<hr style=\"border: 5px solid #003262;\" />\n",
    "<hr style=\"border: 1px solid #fdb515;\" />\n"
   ]
  },
  {
   "cell_type": "markdown",
   "metadata": {
    "deletable": false,
    "editable": false
   },
   "source": [
    "<!-- BEGIN QUESTION -->\n",
    "\n",
    "## Question 1: Unboxing the Data\n"
   ]
  },
  {
   "cell_type": "markdown",
   "metadata": {
    "deletable": false,
    "editable": false
   },
   "source": [
    "<!-- END QUESTION -->\n",
    "\n",
    "<br><br>\n",
    "\n",
    "---\n",
    "### Question 1b\n",
    "\n",
    "The diagram claims that `buildings_site_mapping` has a **many-to-many relationship** with `real_estate_metadata`. Let's validate that. "
   ]
  },
  {
   "cell_type": "markdown",
   "metadata": {},
   "source": [
    "Find the **distinct** values of `buildings_site_mapping.building` that match multiple tuples in `real_estate_metadata.building_name`, and for each such value of `buildings_site_mapping.building` return the matches as JSON via `json_agg(real_estate_metadata)`. Your output should contain the building and the `json_agg` in that order. **Order your final result by building ascending**.\n",
    "\n",
    "**Hint:** You should use a CTE to find the distinct buildings of `buildings_site_mapping` before applying necessary table joins."
   ]
  },
  {
   "cell_type": "code",
   "execution_count": 9,
   "metadata": {
    "tags": []
   },
   "outputs": [
    {
     "data": {
      "text/html": [
       "<span style=\"None\">Running query in &#x27;postgresql://jovyan@127.0.0.1:5432/ucb_buildings&#x27;</span>"
      ],
      "text/plain": [
       "Running query in 'postgresql://jovyan@127.0.0.1:5432/ucb_buildings'"
      ]
     },
     "metadata": {},
     "output_type": "display_data"
    },
    {
     "data": {
      "text/html": [
       "<span style=\"color: green\">5 rows affected.</span>"
      ],
      "text/plain": [
       "5 rows affected."
      ]
     },
     "metadata": {},
     "output_type": "display_data"
    }
   ],
   "source": [
    "%%sql --save query_1b result_1b <<\n",
    "\n",
    "with tbl as (\n",
    "    select distinct building \n",
    "    from buildings_site_mapping\n",
    ")\n",
    "    \n",
    "select b.building, json_agg(r)\n",
    "from real_estate_metadata as r\n",
    "JOIN tbl b\n",
    "ON b.building = r.building_name\n",
    "group by b.building\n",
    "having count(*) > 1\n",
    "order by b.building"
   ]
  },
  {
   "cell_type": "code",
   "execution_count": 10,
   "metadata": {
    "tags": []
   },
   "outputs": [
    {
     "data": {
      "text/html": [
       "<table>\n",
       "    <thead>\n",
       "        <tr>\n",
       "            <th>building</th>\n",
       "            <th>json_agg</th>\n",
       "        </tr>\n",
       "    </thead>\n",
       "    <tbody>\n",
       "        <tr>\n",
       "            <td>ALUMNI HOUSE</td>\n",
       "            <td>[{'location': 'BERKELEY', 'building': '1215', 'building_name': 'ALUMNI HOUSE', 'address': 'CORE C22A2M0PUS', 'city_name': 'BERKELEY', 'county': 'ALAMEDA', 'category': 'GENERAL', 'osfg': 15590, 'bldg_asf': 8719, 'levels': 2, 'year': '1954', 'owner': 'UC', 'mp_code': 'P', 'book_value': 106819}, {'location': 'IRVINE', 'building': '9207', 'building_name': 'ALUMNI HOUSE', 'address': 'CORE CAMPUS', 'city_name': 'IRVINE', 'county': 'ORANGE', 'category': 'GENERAL', 'osfg': 4027, 'bldg_asf': 2549, 'levels': 1, 'year': '1984', 'owner': 'UC', 'mp_code': 'P', 'book_value': 41981}, {'location': 'FRANCISC SOAN', 'building': '2032', 'building_name': 'ALUMNI HOUSE', 'address': 'PARNASS US AVE', 'city_name': 'FRANCISC OSAN', 'county': 'FRANCISC OSAN', 'category': 'HEALTH SCIENCE', 'osfg': 7217, 'bldg_asf': 5079, 'levels': 3, 'year': '1915', 'owner': 'UP', 'mp_code': 'P', 'book_value': 135923}]</td>\n",
       "        </tr>\n",
       "        <tr>\n",
       "            <td>CAMPBELL</td>\n",
       "            <td>[{'location': 'BERKELEY', 'building': '1027', 'building_name': 'CAMPBELL', 'address': 'CORE C28A5M0PUS', 'city_name': 'BERKELEY', 'county': 'ALAMEDA', 'category': 'GENERAL', 'osfg': 83373, 'bldg_asf': 50745, 'levels': 7, 'year': '2014', 'owner': 'UC', 'mp_code': 'P', 'book_value': 75256344.0}, {'location': 'LOS ANGELES', 'building': '4294', 'building_name': 'CAMPBELL', 'address': 'PORTOLA P11L8A1Z1A', 'city_name': 'LOS ANGELES', 'county': 'LOS ANGELES', 'category': 'GENERAL', 'osfg': 55401, 'bldg_asf': 32619, 'levels': 5, 'year': '1954', 'owner': 'UC', 'mp_code': 'P', 'book_value': 6247192.0}]</td>\n",
       "        </tr>\n",
       "        <tr>\n",
       "            <td>HERTZ</td>\n",
       "            <td>[{'location': 'BERKELEY', 'building': '1423', 'building_name': 'HERTZ', 'address': 'CORE CAMPUS', 'city_name': 'BERKELEY', 'county': 'ALAMEDA', 'category': 'GENERAL', 'osfg': 31362, 'bldg_asf': 13518, 'levels': 4, 'year': '1958', 'owner': 'UC', 'mp_code': 'P', 'book_value': 3491181.0}, {'location': 'DAVIS', 'building': '9454', 'building_name': 'HERTZ', 'address': '7000 EAST 2A4V0E0 LAKE', 'city_name': 'LIVERMOR E', 'county': 'ALAMEDA', 'category': 'GENERAL', 'osfg': 10904, 'bldg_asf': 8183, 'levels': 1, 'year': '1976', 'owner': 'UC', 'mp_code': 'P', 'book_value': 0}]</td>\n",
       "        </tr>\n",
       "        <tr>\n",
       "            <td>SOUTH</td>\n",
       "            <td>[{'location': 'BERKELEY', 'building': '1484', 'building_name': 'SOUTH', 'address': 'CORE CAMPUS', 'city_name': 'BERKELEY', 'county': 'ALAMEDA', 'category': 'GENERAL', 'osfg': 30401, 'bldg_asf': 15473, 'levels': 4, 'year': '1873', 'owner': 'UC', 'mp_code': 'P', 'book_value': 1426174.0}, {'location': 'DAVIS', 'building': '3275', 'building_name': 'SOUTH', 'address': 'CORE CAMPUS', 'city_name': 'DAVIS (YOLO)', 'county': 'YOLO', 'category': 'GENERAL', 'osfg': 26594, 'bldg_asf': 15323, 'levels': 4, 'year': '1912', 'owner': 'UC', 'mp_code': 'P', 'book_value': 3585399.0}]</td>\n",
       "        </tr>\n",
       "        <tr>\n",
       "            <td>SPROUL</td>\n",
       "            <td>[{'location': 'BERKELEY', 'building': '1210', 'building_name': 'SPROUL', 'address': 'CORE 2C6A0M0PUS', 'city_name': 'BERKELEY', 'county': 'ALAMEDA', 'category': 'GENERAL', 'osfg': 111197, 'bldg_asf': 66680, 'levels': 6, 'year': '1941', 'owner': 'UC', 'mp_code': 'P', 'book_value': 4278819.0}, {'location': 'DAVIS', 'building': '3815', 'building_name': 'SPROUL', 'address': 'CORE CAMPUS', 'city_name': 'DAVIS (YOLO)', 'county': 'YOLO', 'category': 'GENERAL', 'osfg': 53874, 'bldg_asf': 27913, 'levels': 10, 'year': '1963', 'owner': 'UC', 'mp_code': 'P', 'book_value': 1620880.0}, {'location': 'RIVERSIDE', 'building': 'P5523', 'building_name': 'SPROUL', 'address': 'CORE CAMPUS', 'city_name': 'RIVERSIDE', 'county': 'RIVERSIDE', 'category': 'GENERAL', 'osfg': 80988, 'bldg_asf': 45532, 'levels': 5, 'year': '1965', 'owner': 'UC', 'mp_code': 'P', 'book_value': 1296147.0}]</td>\n",
       "        </tr>\n",
       "    </tbody>\n",
       "</table>"
      ],
      "text/plain": [
       "+--------------+---------------------------------------------------------------------------------------------------------------------------------------------------------------------------------------------------------------------------------------------------------------------------------------------------------------------------------------------------------------------------------------------------------------------------------------------------------------------------------------------------------------------------------------------------------------------------------------------------------------------------------------------------------------------------------------------------------------------------------------------------------------------------------------------------------------------------------------------------------------------------------------------------------------------------+\n",
       "|   building   |                                                                                                                                                                                                                                                                                                                                                                                                                                                          json_agg                                                                                                                                                                                                                                                                                                                                                                                                                                                         |\n",
       "+--------------+---------------------------------------------------------------------------------------------------------------------------------------------------------------------------------------------------------------------------------------------------------------------------------------------------------------------------------------------------------------------------------------------------------------------------------------------------------------------------------------------------------------------------------------------------------------------------------------------------------------------------------------------------------------------------------------------------------------------------------------------------------------------------------------------------------------------------------------------------------------------------------------------------------------------------+\n",
       "| ALUMNI HOUSE | [{'location': 'BERKELEY', 'building': '1215', 'building_name': 'ALUMNI HOUSE', 'address': 'CORE C22A2M0PUS', 'city_name': 'BERKELEY', 'county': 'ALAMEDA', 'category': 'GENERAL', 'osfg': 15590, 'bldg_asf': 8719, 'levels': 2, 'year': '1954', 'owner': 'UC', 'mp_code': 'P', 'book_value': 106819}, {'location': 'IRVINE', 'building': '9207', 'building_name': 'ALUMNI HOUSE', 'address': 'CORE CAMPUS', 'city_name': 'IRVINE', 'county': 'ORANGE', 'category': 'GENERAL', 'osfg': 4027, 'bldg_asf': 2549, 'levels': 1, 'year': '1984', 'owner': 'UC', 'mp_code': 'P', 'book_value': 41981}, {'location': 'FRANCISC SOAN', 'building': '2032', 'building_name': 'ALUMNI HOUSE', 'address': 'PARNASS US AVE', 'city_name': 'FRANCISC OSAN', 'county': 'FRANCISC OSAN', 'category': 'HEALTH SCIENCE', 'osfg': 7217, 'bldg_asf': 5079, 'levels': 3, 'year': '1915', 'owner': 'UP', 'mp_code': 'P', 'book_value': 135923}] |\n",
       "|   CAMPBELL   |                                                                                                                                                  [{'location': 'BERKELEY', 'building': '1027', 'building_name': 'CAMPBELL', 'address': 'CORE C28A5M0PUS', 'city_name': 'BERKELEY', 'county': 'ALAMEDA', 'category': 'GENERAL', 'osfg': 83373, 'bldg_asf': 50745, 'levels': 7, 'year': '2014', 'owner': 'UC', 'mp_code': 'P', 'book_value': 75256344.0}, {'location': 'LOS ANGELES', 'building': '4294', 'building_name': 'CAMPBELL', 'address': 'PORTOLA P11L8A1Z1A', 'city_name': 'LOS ANGELES', 'county': 'LOS ANGELES', 'category': 'GENERAL', 'osfg': 55401, 'bldg_asf': 32619, 'levels': 5, 'year': '1954', 'owner': 'UC', 'mp_code': 'P', 'book_value': 6247192.0}]                                                                                                                                                 |\n",
       "|    HERTZ     |                                                                                                                                                               [{'location': 'BERKELEY', 'building': '1423', 'building_name': 'HERTZ', 'address': 'CORE CAMPUS', 'city_name': 'BERKELEY', 'county': 'ALAMEDA', 'category': 'GENERAL', 'osfg': 31362, 'bldg_asf': 13518, 'levels': 4, 'year': '1958', 'owner': 'UC', 'mp_code': 'P', 'book_value': 3491181.0}, {'location': 'DAVIS', 'building': '9454', 'building_name': 'HERTZ', 'address': '7000 EAST 2A4V0E0 LAKE', 'city_name': 'LIVERMOR E', 'county': 'ALAMEDA', 'category': 'GENERAL', 'osfg': 10904, 'bldg_asf': 8183, 'levels': 1, 'year': '1976', 'owner': 'UC', 'mp_code': 'P', 'book_value': 0}]                                                                                                                                                               |\n",
       "|    SOUTH     |                                                                                                                                                                 [{'location': 'BERKELEY', 'building': '1484', 'building_name': 'SOUTH', 'address': 'CORE CAMPUS', 'city_name': 'BERKELEY', 'county': 'ALAMEDA', 'category': 'GENERAL', 'osfg': 30401, 'bldg_asf': 15473, 'levels': 4, 'year': '1873', 'owner': 'UC', 'mp_code': 'P', 'book_value': 1426174.0}, {'location': 'DAVIS', 'building': '3275', 'building_name': 'SOUTH', 'address': 'CORE CAMPUS', 'city_name': 'DAVIS (YOLO)', 'county': 'YOLO', 'category': 'GENERAL', 'osfg': 26594, 'bldg_asf': 15323, 'levels': 4, 'year': '1912', 'owner': 'UC', 'mp_code': 'P', 'book_value': 3585399.0}]                                                                                                                                                                |\n",
       "|    SPROUL    |           [{'location': 'BERKELEY', 'building': '1210', 'building_name': 'SPROUL', 'address': 'CORE 2C6A0M0PUS', 'city_name': 'BERKELEY', 'county': 'ALAMEDA', 'category': 'GENERAL', 'osfg': 111197, 'bldg_asf': 66680, 'levels': 6, 'year': '1941', 'owner': 'UC', 'mp_code': 'P', 'book_value': 4278819.0}, {'location': 'DAVIS', 'building': '3815', 'building_name': 'SPROUL', 'address': 'CORE CAMPUS', 'city_name': 'DAVIS (YOLO)', 'county': 'YOLO', 'category': 'GENERAL', 'osfg': 53874, 'bldg_asf': 27913, 'levels': 10, 'year': '1963', 'owner': 'UC', 'mp_code': 'P', 'book_value': 1620880.0}, {'location': 'RIVERSIDE', 'building': 'P5523', 'building_name': 'SPROUL', 'address': 'CORE CAMPUS', 'city_name': 'RIVERSIDE', 'county': 'RIVERSIDE', 'category': 'GENERAL', 'osfg': 80988, 'bldg_asf': 45532, 'levels': 5, 'year': '1965', 'owner': 'UC', 'mp_code': 'P', 'book_value': 1296147.0}]          |\n",
       "+--------------+---------------------------------------------------------------------------------------------------------------------------------------------------------------------------------------------------------------------------------------------------------------------------------------------------------------------------------------------------------------------------------------------------------------------------------------------------------------------------------------------------------------------------------------------------------------------------------------------------------------------------------------------------------------------------------------------------------------------------------------------------------------------------------------------------------------------------------------------------------------------------------------------------------------------------+"
      ]
     },
     "execution_count": 10,
     "metadata": {},
     "output_type": "execute_result"
    }
   ],
   "source": [
    "# Do not delete/edit this cell!\n",
    "# You must run this cell before running the autograder.\n",
    "query_1b = %sqlcmd snippets query_1b\n",
    "grading_util.save_results(\"result_1b\", query_1b, result_1b)\n",
    "result_1b"
   ]
  },
  {
   "cell_type": "markdown",
   "metadata": {},
   "source": [
    "<br><br>\n",
    "\n",
    "---\n",
    "### Question 1c\n",
    "\n",
    "Now find examples of many matches in the opposite direction. For each distinct `real_estate_metadata.building_name` value, find the ones that have multiple matches in `buildings_site_mapping.building`, and for each return a `json_agg` of the multiple values for `buildings_site_mapping`. Your output should contain the building name and the `json_agg` in that order. **Order your final result by building name ascending.**\n",
    "\n",
    "**Hint:** You should use a CTE to find the distinct building names of `real_estate_metadata` before applying necessary table joins."
   ]
  },
  {
   "cell_type": "code",
   "execution_count": 12,
   "metadata": {
    "scrolled": true,
    "tags": []
   },
   "outputs": [
    {
     "data": {
      "text/html": [
       "<span style=\"None\">Running query in &#x27;postgresql://jovyan@127.0.0.1:5432/ucb_buildings&#x27;</span>"
      ],
      "text/plain": [
       "Running query in 'postgresql://jovyan@127.0.0.1:5432/ucb_buildings'"
      ]
     },
     "metadata": {},
     "output_type": "display_data"
    },
    {
     "data": {
      "text/html": [
       "<span style=\"color: green\">4 rows affected.</span>"
      ],
      "text/plain": [
       "4 rows affected."
      ]
     },
     "metadata": {},
     "output_type": "display_data"
    }
   ],
   "source": [
    "%%sql --save query_1c result_1c <<\n",
    "with tbl as (\n",
    "select distinct building_name \n",
    "from real_estate_metadata \n",
    ")\n",
    "select r.building_name, json_agg(b)\n",
    "from buildings_site_mapping as b\n",
    "join tbl as r \n",
    "on b.building = r.building_name\n",
    "group by r.building_name \n",
    "having count(*) > 1\n",
    "order by r.building_name"
   ]
  },
  {
   "cell_type": "code",
   "execution_count": 13,
   "metadata": {
    "tags": []
   },
   "outputs": [
    {
     "data": {
      "text/html": [
       "<table>\n",
       "    <thead>\n",
       "        <tr>\n",
       "            <th>building_name</th>\n",
       "            <th>json_agg</th>\n",
       "        </tr>\n",
       "    </thead>\n",
       "    <tbody>\n",
       "        <tr>\n",
       "            <td>EDWARDS FLD</td>\n",
       "            <td>[{'site': 'Edwards Stadium East', 'building': 'EDWARDS FLD'}, {'site': 'Edwards Stadium West', 'building': 'EDWARDS FLD'}]</td>\n",
       "        </tr>\n",
       "        <tr>\n",
       "            <td>FAC CLUB</td>\n",
       "            <td>[{'site': \"Men's Faculty Club\", 'building': 'FAC CLUB'}, {'site': 'Womens Faculty Club', 'building': 'FAC CLUB'}]</td>\n",
       "        </tr>\n",
       "        <tr>\n",
       "            <td>HAAS STU BLD</td>\n",
       "            <td>[{'site': 'Haas School Student Services (Water)', 'building': 'HAAS STU BLD'}, {'site': 'Haas School of Business', 'building': 'HAAS STU BLD'}]</td>\n",
       "        </tr>\n",
       "        <tr>\n",
       "            <td>SIMON</td>\n",
       "            <td>[{'site': 'Simpson Center', 'building': 'SIMON'}, {'site': 'Boalt and Simon Hall', 'building': 'SIMON'}]</td>\n",
       "        </tr>\n",
       "    </tbody>\n",
       "</table>"
      ],
      "text/plain": [
       "+---------------+-------------------------------------------------------------------------------------------------------------------------------------------------+\n",
       "| building_name |                                                                     json_agg                                                                    |\n",
       "+---------------+-------------------------------------------------------------------------------------------------------------------------------------------------+\n",
       "|  EDWARDS FLD  |            [{'site': 'Edwards Stadium East', 'building': 'EDWARDS FLD'}, {'site': 'Edwards Stadium West', 'building': 'EDWARDS FLD'}]           |\n",
       "|    FAC CLUB   |                [{'site': \"Men's Faculty Club\", 'building': 'FAC CLUB'}, {'site': 'Womens Faculty Club', 'building': 'FAC CLUB'}]                |\n",
       "|  HAAS STU BLD | [{'site': 'Haas School Student Services (Water)', 'building': 'HAAS STU BLD'}, {'site': 'Haas School of Business', 'building': 'HAAS STU BLD'}] |\n",
       "|     SIMON     |                     [{'site': 'Simpson Center', 'building': 'SIMON'}, {'site': 'Boalt and Simon Hall', 'building': 'SIMON'}]                    |\n",
       "+---------------+-------------------------------------------------------------------------------------------------------------------------------------------------+"
      ]
     },
     "execution_count": 13,
     "metadata": {},
     "output_type": "execute_result"
    }
   ],
   "source": [
    "# Do not delete/edit this cell!\n",
    "# You must run this cell before running the autograder.\n",
    "query_1c = %sqlcmd snippets query_1c\n",
    "grading_util.save_results(\"result_1c\", query_1c, result_1c)\n",
    "result_1c"
   ]
  },
  {
   "cell_type": "markdown",
   "metadata": {
    "deletable": false,
    "editable": false
   },
   "source": [
    "<!-- END QUESTION -->\n",
    "\n",
    "<br/><br/><br/>\n",
    "\n",
    "<hr style=\"border: 5px solid #003262;\" />\n",
    "<hr style=\"border: 1px solid #fdb515;\" />\n",
    "\n",
    "## Question 2: Looking for Outliers in the Readings\n",
    "Physical sensors, such as the ones responsible for generating this data, are notorious for occasionally producing crazy outliers. In this section, we will undergo some data cleaning to address these outliers.\n",
    "\n",
    "The readings from all different types of sensors are mixed together within this `data` table. This assortment of mixed readings will require some extra work to identify the outliers. Let's get started.\n",
    "\n",
    "### Question 2a: Outlier Detection\n",
    "\n",
    "Let's start with finding the outlying values *for each sensor id*. We'll define an outlier as an observation that is more than **3 Hampel X84 intervals** away from the median. \n",
    "\n",
    "Create a view `labeled_data` that contains all of the columns in `data` and adds three additional columns on the far right ***for each sensor id***:\n",
    "  - `median` containing the median using `percentile_disc`\n",
    "  - `mad` containing the Median Absolute Deviation (MAD),\n",
    "  - `outlier` that contains `true` for the outlier readings and `false` for the rest. **Also,** for data points where the `mad` is 0, set this to `false`."
   ]
  },
  {
   "cell_type": "code",
   "execution_count": 15,
   "metadata": {},
   "outputs": [
    {
     "data": {
      "text/html": [
       "<span style=\"None\">Running query in &#x27;postgresql://jovyan@127.0.0.1:5432/ucb_buildings&#x27;</span>"
      ],
      "text/plain": [
       "Running query in 'postgresql://jovyan@127.0.0.1:5432/ucb_buildings'"
      ]
     },
     "metadata": {},
     "output_type": "display_data"
    },
    {
     "data": {
      "text/html": [
       "<table>\n",
       "    <thead>\n",
       "        <tr>\n",
       "        </tr>\n",
       "    </thead>\n",
       "    <tbody>\n",
       "    </tbody>\n",
       "</table>"
      ],
      "text/plain": [
       "++\n",
       "||\n",
       "++\n",
       "++"
      ]
     },
     "execution_count": 15,
     "metadata": {},
     "output_type": "execute_result"
    }
   ],
   "source": [
    "%%sql\n",
    "create or replace view tbl1 as \n",
    "    select id, \n",
    "    percentile_disc(0.5) within group (order by value) as median\n",
    "    from data\n",
    "    group by id"
   ]
  },
  {
   "cell_type": "code",
   "execution_count": 16,
   "metadata": {},
   "outputs": [
    {
     "data": {
      "text/html": [
       "<span style=\"None\">Running query in &#x27;postgresql://jovyan@127.0.0.1:5432/ucb_buildings&#x27;</span>"
      ],
      "text/plain": [
       "Running query in 'postgresql://jovyan@127.0.0.1:5432/ucb_buildings'"
      ]
     },
     "metadata": {},
     "output_type": "display_data"
    },
    {
     "data": {
      "text/html": [
       "<table>\n",
       "    <thead>\n",
       "        <tr>\n",
       "        </tr>\n",
       "    </thead>\n",
       "    <tbody>\n",
       "    </tbody>\n",
       "</table>"
      ],
      "text/plain": [
       "++\n",
       "||\n",
       "++\n",
       "++"
      ]
     },
     "execution_count": 16,
     "metadata": {},
     "output_type": "execute_result"
    }
   ],
   "source": [
    "%%sql\n",
    "create or replace view tbl2 as \n",
    "select data.time, data.id, data.value, tbl1.median, abs(tbl1.median - value) as stddev\n",
    "    from data \n",
    "    inner join tbl1 on data.id = tbl1.id"
   ]
  },
  {
   "cell_type": "code",
   "execution_count": 17,
   "metadata": {},
   "outputs": [
    {
     "data": {
      "text/html": [
       "<span style=\"None\">Running query in &#x27;postgresql://jovyan@127.0.0.1:5432/ucb_buildings&#x27;</span>"
      ],
      "text/plain": [
       "Running query in 'postgresql://jovyan@127.0.0.1:5432/ucb_buildings'"
      ]
     },
     "metadata": {},
     "output_type": "display_data"
    },
    {
     "data": {
      "text/html": [
       "<table>\n",
       "    <thead>\n",
       "        <tr>\n",
       "        </tr>\n",
       "    </thead>\n",
       "    <tbody>\n",
       "    </tbody>\n",
       "</table>"
      ],
      "text/plain": [
       "++\n",
       "||\n",
       "++\n",
       "++"
      ]
     },
     "execution_count": 17,
     "metadata": {},
     "output_type": "execute_result"
    }
   ],
   "source": [
    "%%sql\n",
    "create or replace view tbl3 as \n",
    "select id, percentile_disc(0.5) within group (order by stddev) as MAD\n",
    "    from tbl2 \n",
    "    group by id"
   ]
  },
  {
   "cell_type": "code",
   "execution_count": 18,
   "metadata": {},
   "outputs": [
    {
     "data": {
      "text/html": [
       "<span style=\"None\">Running query in &#x27;postgresql://jovyan@127.0.0.1:5432/ucb_buildings&#x27;</span>"
      ],
      "text/plain": [
       "Running query in 'postgresql://jovyan@127.0.0.1:5432/ucb_buildings'"
      ]
     },
     "metadata": {},
     "output_type": "display_data"
    },
    {
     "data": {
      "text/html": [
       "<table>\n",
       "    <thead>\n",
       "        <tr>\n",
       "        </tr>\n",
       "    </thead>\n",
       "    <tbody>\n",
       "    </tbody>\n",
       "</table>"
      ],
      "text/plain": [
       "++\n",
       "||\n",
       "++\n",
       "++"
      ]
     },
     "execution_count": 18,
     "metadata": {},
     "output_type": "execute_result"
    }
   ],
   "source": [
    "%%sql\n",
    "create or replace view tbl4 as\n",
    "select t2.time, t2.id, t2.value, t2.median, t2.stddev, t3.MAD\n",
    "    from tbl2 as t2\n",
    "    inner join tbl3 as t3\n",
    "    on t2.id = t3.id"
   ]
  },
  {
   "cell_type": "code",
   "execution_count": 19,
   "metadata": {
    "tags": []
   },
   "outputs": [
    {
     "data": {
      "text/html": [
       "<span style=\"None\">Running query in &#x27;postgresql://jovyan@127.0.0.1:5432/ucb_buildings&#x27;</span>"
      ],
      "text/plain": [
       "Running query in 'postgresql://jovyan@127.0.0.1:5432/ucb_buildings'"
      ]
     },
     "metadata": {},
     "output_type": "display_data"
    },
    {
     "data": {
      "text/html": [
       "<span style=\"color: green\">100 rows affected.</span>"
      ],
      "text/plain": [
       "100 rows affected."
      ]
     },
     "metadata": {},
     "output_type": "display_data"
    }
   ],
   "source": [
    "%%sql --save query_2a result_2a <<\n",
    "CREATE OR REPLACE VIEW labeled_data AS\n",
    "select time, id, value, median, MAD, \n",
    "case when stddev between mad * 1.4826 * -3 and mad * 1.4826 * 3 then false\n",
    "when mad = 0 then false\n",
    "else true end as outlier\n",
    "from tbl4\n",
    ";\n",
    "SELECT * FROM labeled_data WHERE outlier ORDER BY id, time LIMIT 100;"
   ]
  },
  {
   "cell_type": "code",
   "execution_count": 20,
   "metadata": {
    "tags": []
   },
   "outputs": [
    {
     "data": {
      "text/html": [
       "<table>\n",
       "    <thead>\n",
       "        <tr>\n",
       "            <th>time</th>\n",
       "            <th>id</th>\n",
       "            <th>value</th>\n",
       "            <th>median</th>\n",
       "            <th>mad</th>\n",
       "            <th>outlier</th>\n",
       "        </tr>\n",
       "    </thead>\n",
       "    <tbody>\n",
       "        <tr>\n",
       "            <td>2018-06-09 08:45:00+00:00</td>\n",
       "            <td>a47e9bd4-ab61-56d5-9e0e-2dce29a46dd3</td>\n",
       "            <td>98.7</td>\n",
       "            <td>37.2</td>\n",
       "            <td>12.5</td>\n",
       "            <td>True</td>\n",
       "        </tr>\n",
       "        <tr>\n",
       "            <td>2018-06-07 00:00:00+00:00</td>\n",
       "            <td>a481d4a8-44f6-5f63-b469-85571a018c6f</td>\n",
       "            <td>812.6</td>\n",
       "            <td>727.5</td>\n",
       "            <td>16.200000000000045</td>\n",
       "            <td>True</td>\n",
       "        </tr>\n",
       "        <tr>\n",
       "            <td>2018-06-07 18:00:00+00:00</td>\n",
       "            <td>a481d4a8-44f6-5f63-b469-85571a018c6f</td>\n",
       "            <td>807.3</td>\n",
       "            <td>727.5</td>\n",
       "            <td>16.200000000000045</td>\n",
       "            <td>True</td>\n",
       "        </tr>\n",
       "        <tr>\n",
       "            <td>2018-06-07 18:15:00+00:00</td>\n",
       "            <td>a481d4a8-44f6-5f63-b469-85571a018c6f</td>\n",
       "            <td>800.0</td>\n",
       "            <td>727.5</td>\n",
       "            <td>16.200000000000045</td>\n",
       "            <td>True</td>\n",
       "        </tr>\n",
       "        <tr>\n",
       "            <td>2018-06-07 18:30:00+00:00</td>\n",
       "            <td>a481d4a8-44f6-5f63-b469-85571a018c6f</td>\n",
       "            <td>819.5</td>\n",
       "            <td>727.5</td>\n",
       "            <td>16.200000000000045</td>\n",
       "            <td>True</td>\n",
       "        </tr>\n",
       "        <tr>\n",
       "            <td>2018-06-07 18:45:00+00:00</td>\n",
       "            <td>a481d4a8-44f6-5f63-b469-85571a018c6f</td>\n",
       "            <td>808.7</td>\n",
       "            <td>727.5</td>\n",
       "            <td>16.200000000000045</td>\n",
       "            <td>True</td>\n",
       "        </tr>\n",
       "        <tr>\n",
       "            <td>2018-06-07 19:15:00+00:00</td>\n",
       "            <td>a481d4a8-44f6-5f63-b469-85571a018c6f</td>\n",
       "            <td>811.1</td>\n",
       "            <td>727.5</td>\n",
       "            <td>16.200000000000045</td>\n",
       "            <td>True</td>\n",
       "        </tr>\n",
       "        <tr>\n",
       "            <td>2018-06-07 19:30:00+00:00</td>\n",
       "            <td>a481d4a8-44f6-5f63-b469-85571a018c6f</td>\n",
       "            <td>804.2</td>\n",
       "            <td>727.5</td>\n",
       "            <td>16.200000000000045</td>\n",
       "            <td>True</td>\n",
       "        </tr>\n",
       "        <tr>\n",
       "            <td>2018-06-07 19:45:00+00:00</td>\n",
       "            <td>a481d4a8-44f6-5f63-b469-85571a018c6f</td>\n",
       "            <td>810.9</td>\n",
       "            <td>727.5</td>\n",
       "            <td>16.200000000000045</td>\n",
       "            <td>True</td>\n",
       "        </tr>\n",
       "        <tr>\n",
       "            <td>2018-06-07 20:00:00+00:00</td>\n",
       "            <td>a481d4a8-44f6-5f63-b469-85571a018c6f</td>\n",
       "            <td>801.7</td>\n",
       "            <td>727.5</td>\n",
       "            <td>16.200000000000045</td>\n",
       "            <td>True</td>\n",
       "        </tr>\n",
       "    </tbody>\n",
       "</table>"
      ],
      "text/plain": [
       "+---------------------------+--------------------------------------+-------+--------+--------------------+---------+\n",
       "|            time           |                  id                  | value | median |        mad         | outlier |\n",
       "+---------------------------+--------------------------------------+-------+--------+--------------------+---------+\n",
       "| 2018-06-09 08:45:00+00:00 | a47e9bd4-ab61-56d5-9e0e-2dce29a46dd3 |  98.7 |  37.2  |        12.5        |   True  |\n",
       "| 2018-06-07 00:00:00+00:00 | a481d4a8-44f6-5f63-b469-85571a018c6f | 812.6 | 727.5  | 16.200000000000045 |   True  |\n",
       "| 2018-06-07 18:00:00+00:00 | a481d4a8-44f6-5f63-b469-85571a018c6f | 807.3 | 727.5  | 16.200000000000045 |   True  |\n",
       "| 2018-06-07 18:15:00+00:00 | a481d4a8-44f6-5f63-b469-85571a018c6f | 800.0 | 727.5  | 16.200000000000045 |   True  |\n",
       "| 2018-06-07 18:30:00+00:00 | a481d4a8-44f6-5f63-b469-85571a018c6f | 819.5 | 727.5  | 16.200000000000045 |   True  |\n",
       "| 2018-06-07 18:45:00+00:00 | a481d4a8-44f6-5f63-b469-85571a018c6f | 808.7 | 727.5  | 16.200000000000045 |   True  |\n",
       "| 2018-06-07 19:15:00+00:00 | a481d4a8-44f6-5f63-b469-85571a018c6f | 811.1 | 727.5  | 16.200000000000045 |   True  |\n",
       "| 2018-06-07 19:30:00+00:00 | a481d4a8-44f6-5f63-b469-85571a018c6f | 804.2 | 727.5  | 16.200000000000045 |   True  |\n",
       "| 2018-06-07 19:45:00+00:00 | a481d4a8-44f6-5f63-b469-85571a018c6f | 810.9 | 727.5  | 16.200000000000045 |   True  |\n",
       "| 2018-06-07 20:00:00+00:00 | a481d4a8-44f6-5f63-b469-85571a018c6f | 801.7 | 727.5  | 16.200000000000045 |   True  |\n",
       "+---------------------------+--------------------------------------+-------+--------+--------------------+---------+"
      ]
     },
     "execution_count": 20,
     "metadata": {},
     "output_type": "execute_result"
    }
   ],
   "source": [
    "# Do not delete/edit this cell!\n",
    "# You must run this cell before running the autograder.\n",
    "query_2a = %sqlcmd snippets query_2a\n",
    "grading_util.save_results(\"result_2a\", query_2a, result_2a)\n",
    "result_2a"
   ]
  },
  {
   "cell_type": "markdown",
   "metadata": {},
   "source": [
    "<br><br>\n",
    "\n",
    "---\n",
    "\n",
    "### Question 2b: Outlier Handling (Winsorization)\n",
    "\n",
    "In this step, define a view `cleaned_data` containing all the columns of `labeled_data` and one additional column on the far right called `clean_value`. This column will contain a copy of `labeled_data.value` if that value is not an outlier. For outliers, it should contain the value Winsorized to the nearest outlier boundary value (3 Hampel X84 intervals from the median). If the MAD is 0, then the cleaned value should be unchanged (i.e., the same as the original value).\n",
    "\n",
    "To reiterate, we consider a value to be an outlier if it is more than (strictly greater than or strictly less than) 3 Hampel X84 intervals from the median. "
   ]
  },
  {
   "cell_type": "code",
   "execution_count": 22,
   "metadata": {},
   "outputs": [
    {
     "data": {
      "text/html": [
       "<span style=\"None\">Running query in &#x27;postgresql://jovyan@127.0.0.1:5432/ucb_buildings&#x27;</span>"
      ],
      "text/plain": [
       "Running query in 'postgresql://jovyan@127.0.0.1:5432/ucb_buildings'"
      ]
     },
     "metadata": {},
     "output_type": "display_data"
    },
    {
     "data": {
      "text/html": [
       "<table>\n",
       "    <thead>\n",
       "        <tr>\n",
       "        </tr>\n",
       "    </thead>\n",
       "    <tbody>\n",
       "    </tbody>\n",
       "</table>"
      ],
      "text/plain": [
       "++\n",
       "||\n",
       "++\n",
       "++"
      ]
     },
     "execution_count": 22,
     "metadata": {},
     "output_type": "execute_result"
    }
   ],
   "source": [
    "%%sql\n",
    "create or replace view tbl_2b as\n",
    "select ld.time, ld.id, ld.value, ld.median, ld.mad, ld.outlier, h.hampel\n",
    "from labeled_data as ld\n",
    "inner join (\n",
    "    select temp.id, temp.MAD * 3 * 1.4826 as hampel \n",
    "    from (\n",
    "    select id, \n",
    "    percentile_disc(0.5) within group (order by stddev) as MAD\n",
    "    from tbl2 \n",
    "    group by id) as temp\n",
    ") as h\n",
    "on ld.id = h.id"
   ]
  },
  {
   "cell_type": "code",
   "execution_count": 23,
   "metadata": {
    "tags": []
   },
   "outputs": [
    {
     "data": {
      "text/html": [
       "<span style=\"None\">Running query in &#x27;postgresql://jovyan@127.0.0.1:5432/ucb_buildings&#x27;</span>"
      ],
      "text/plain": [
       "Running query in 'postgresql://jovyan@127.0.0.1:5432/ucb_buildings'"
      ]
     },
     "metadata": {},
     "output_type": "display_data"
    },
    {
     "data": {
      "text/html": [
       "<span style=\"color: green\">100 rows affected.</span>"
      ],
      "text/plain": [
       "100 rows affected."
      ]
     },
     "metadata": {},
     "output_type": "display_data"
    }
   ],
   "source": [
    "%%sql --save query_2b result_2b <<\n",
    "CREATE OR REPLACE VIEW cleaned_data AS\n",
    "select *, \n",
    "    case \n",
    "    when mad = 0 then value\n",
    "    when outlier = False then value\n",
    "    when (value >= median) then median + hampel\n",
    "    else\n",
    "    median - hampel\n",
    "end as clean_value\n",
    "from tbl_2b\n",
    ";\n",
    "SELECT time, id, value, median, mad, outlier, clean_value\n",
    "FROM cleaned_data WHERE outlier ORDER BY id, time LIMIT 100;"
   ]
  },
  {
   "cell_type": "code",
   "execution_count": 24,
   "metadata": {
    "tags": []
   },
   "outputs": [
    {
     "data": {
      "text/html": [
       "<table>\n",
       "    <thead>\n",
       "        <tr>\n",
       "            <th>time</th>\n",
       "            <th>id</th>\n",
       "            <th>value</th>\n",
       "            <th>median</th>\n",
       "            <th>mad</th>\n",
       "            <th>outlier</th>\n",
       "            <th>clean_value</th>\n",
       "        </tr>\n",
       "    </thead>\n",
       "    <tbody>\n",
       "        <tr>\n",
       "            <td>2018-06-09 08:45:00+00:00</td>\n",
       "            <td>a47e9bd4-ab61-56d5-9e0e-2dce29a46dd3</td>\n",
       "            <td>98.7</td>\n",
       "            <td>37.2</td>\n",
       "            <td>12.5</td>\n",
       "            <td>True</td>\n",
       "            <td>92.7975</td>\n",
       "        </tr>\n",
       "        <tr>\n",
       "            <td>2018-06-07 00:00:00+00:00</td>\n",
       "            <td>a481d4a8-44f6-5f63-b469-85571a018c6f</td>\n",
       "            <td>812.6</td>\n",
       "            <td>727.5</td>\n",
       "            <td>16.200000000000045</td>\n",
       "            <td>True</td>\n",
       "            <td>799.5543600000002</td>\n",
       "        </tr>\n",
       "        <tr>\n",
       "            <td>2018-06-07 18:00:00+00:00</td>\n",
       "            <td>a481d4a8-44f6-5f63-b469-85571a018c6f</td>\n",
       "            <td>807.3</td>\n",
       "            <td>727.5</td>\n",
       "            <td>16.200000000000045</td>\n",
       "            <td>True</td>\n",
       "            <td>799.5543600000002</td>\n",
       "        </tr>\n",
       "        <tr>\n",
       "            <td>2018-06-07 18:15:00+00:00</td>\n",
       "            <td>a481d4a8-44f6-5f63-b469-85571a018c6f</td>\n",
       "            <td>800.0</td>\n",
       "            <td>727.5</td>\n",
       "            <td>16.200000000000045</td>\n",
       "            <td>True</td>\n",
       "            <td>799.5543600000002</td>\n",
       "        </tr>\n",
       "        <tr>\n",
       "            <td>2018-06-07 18:30:00+00:00</td>\n",
       "            <td>a481d4a8-44f6-5f63-b469-85571a018c6f</td>\n",
       "            <td>819.5</td>\n",
       "            <td>727.5</td>\n",
       "            <td>16.200000000000045</td>\n",
       "            <td>True</td>\n",
       "            <td>799.5543600000002</td>\n",
       "        </tr>\n",
       "        <tr>\n",
       "            <td>2018-06-07 18:45:00+00:00</td>\n",
       "            <td>a481d4a8-44f6-5f63-b469-85571a018c6f</td>\n",
       "            <td>808.7</td>\n",
       "            <td>727.5</td>\n",
       "            <td>16.200000000000045</td>\n",
       "            <td>True</td>\n",
       "            <td>799.5543600000002</td>\n",
       "        </tr>\n",
       "        <tr>\n",
       "            <td>2018-06-07 19:15:00+00:00</td>\n",
       "            <td>a481d4a8-44f6-5f63-b469-85571a018c6f</td>\n",
       "            <td>811.1</td>\n",
       "            <td>727.5</td>\n",
       "            <td>16.200000000000045</td>\n",
       "            <td>True</td>\n",
       "            <td>799.5543600000002</td>\n",
       "        </tr>\n",
       "        <tr>\n",
       "            <td>2018-06-07 19:30:00+00:00</td>\n",
       "            <td>a481d4a8-44f6-5f63-b469-85571a018c6f</td>\n",
       "            <td>804.2</td>\n",
       "            <td>727.5</td>\n",
       "            <td>16.200000000000045</td>\n",
       "            <td>True</td>\n",
       "            <td>799.5543600000002</td>\n",
       "        </tr>\n",
       "        <tr>\n",
       "            <td>2018-06-07 19:45:00+00:00</td>\n",
       "            <td>a481d4a8-44f6-5f63-b469-85571a018c6f</td>\n",
       "            <td>810.9</td>\n",
       "            <td>727.5</td>\n",
       "            <td>16.200000000000045</td>\n",
       "            <td>True</td>\n",
       "            <td>799.5543600000002</td>\n",
       "        </tr>\n",
       "        <tr>\n",
       "            <td>2018-06-07 20:00:00+00:00</td>\n",
       "            <td>a481d4a8-44f6-5f63-b469-85571a018c6f</td>\n",
       "            <td>801.7</td>\n",
       "            <td>727.5</td>\n",
       "            <td>16.200000000000045</td>\n",
       "            <td>True</td>\n",
       "            <td>799.5543600000002</td>\n",
       "        </tr>\n",
       "    </tbody>\n",
       "</table>"
      ],
      "text/plain": [
       "+---------------------------+--------------------------------------+-------+--------+--------------------+---------+-------------------+\n",
       "|            time           |                  id                  | value | median |        mad         | outlier |    clean_value    |\n",
       "+---------------------------+--------------------------------------+-------+--------+--------------------+---------+-------------------+\n",
       "| 2018-06-09 08:45:00+00:00 | a47e9bd4-ab61-56d5-9e0e-2dce29a46dd3 |  98.7 |  37.2  |        12.5        |   True  |      92.7975      |\n",
       "| 2018-06-07 00:00:00+00:00 | a481d4a8-44f6-5f63-b469-85571a018c6f | 812.6 | 727.5  | 16.200000000000045 |   True  | 799.5543600000002 |\n",
       "| 2018-06-07 18:00:00+00:00 | a481d4a8-44f6-5f63-b469-85571a018c6f | 807.3 | 727.5  | 16.200000000000045 |   True  | 799.5543600000002 |\n",
       "| 2018-06-07 18:15:00+00:00 | a481d4a8-44f6-5f63-b469-85571a018c6f | 800.0 | 727.5  | 16.200000000000045 |   True  | 799.5543600000002 |\n",
       "| 2018-06-07 18:30:00+00:00 | a481d4a8-44f6-5f63-b469-85571a018c6f | 819.5 | 727.5  | 16.200000000000045 |   True  | 799.5543600000002 |\n",
       "| 2018-06-07 18:45:00+00:00 | a481d4a8-44f6-5f63-b469-85571a018c6f | 808.7 | 727.5  | 16.200000000000045 |   True  | 799.5543600000002 |\n",
       "| 2018-06-07 19:15:00+00:00 | a481d4a8-44f6-5f63-b469-85571a018c6f | 811.1 | 727.5  | 16.200000000000045 |   True  | 799.5543600000002 |\n",
       "| 2018-06-07 19:30:00+00:00 | a481d4a8-44f6-5f63-b469-85571a018c6f | 804.2 | 727.5  | 16.200000000000045 |   True  | 799.5543600000002 |\n",
       "| 2018-06-07 19:45:00+00:00 | a481d4a8-44f6-5f63-b469-85571a018c6f | 810.9 | 727.5  | 16.200000000000045 |   True  | 799.5543600000002 |\n",
       "| 2018-06-07 20:00:00+00:00 | a481d4a8-44f6-5f63-b469-85571a018c6f | 801.7 | 727.5  | 16.200000000000045 |   True  | 799.5543600000002 |\n",
       "+---------------------------+--------------------------------------+-------+--------+--------------------+---------+-------------------+"
      ]
     },
     "execution_count": 24,
     "metadata": {},
     "output_type": "execute_result"
    }
   ],
   "source": [
    "# Do not delete/edit this cell!\n",
    "# You must run this cell before running the autograder.\n",
    "query_2b = %sqlcmd snippets query_2b\n",
    "grading_util.save_results(\"result_2b\", query_2b, result_2b)\n",
    "result_2b"
   ]
  },
  {
   "cell_type": "markdown",
   "metadata": {
    "deletable": false,
    "editable": false
   },
   "source": [
    "<!-- BEGIN QUESTION -->\n",
    "\n",
    "<br/><br/><br/>\n",
    "\n",
    "<hr style=\"border: 5px solid #003262;\" />\n",
    "<hr style=\"border: 1px solid #fdb515;\" />\n",
    "\n",
    "## Question 3: Entity Resolution\n",
    "\n",
    "\n"
   ]
  },
  {
   "cell_type": "markdown",
   "metadata": {
    "deletable": false,
    "editable": false
   },
   "source": [
    "\n",
    "### Question 3b\n",
    "\n",
    "Sometimes entity resolution is as simple as a text transformation. For example, how many unique `units` values are there, and how many would there be if we ignored case (upper vs. lower case)? Your output should be a table with one row and two columns; the first column should contain the number of unique `units` values, and the second column should contain the number of unique `units` values if we ignored case. The two columns can have arbitrary names—we will not be checking column names.\n"
   ]
  },
  {
   "cell_type": "code",
   "execution_count": 27,
   "metadata": {
    "tags": []
   },
   "outputs": [
    {
     "data": {
      "text/html": [
       "<span style=\"None\">Running query in &#x27;postgresql://jovyan@127.0.0.1:5432/ucb_buildings&#x27;</span>"
      ],
      "text/plain": [
       "Running query in 'postgresql://jovyan@127.0.0.1:5432/ucb_buildings'"
      ]
     },
     "metadata": {},
     "output_type": "display_data"
    },
    {
     "data": {
      "text/html": [
       "<span style=\"color: green\">1 rows affected.</span>"
      ],
      "text/plain": [
       "1 rows affected."
      ]
     },
     "metadata": {},
     "output_type": "display_data"
    }
   ],
   "source": [
    "%%sql --save query_3b result_3b <<\n",
    "select count(distinct units) as unique, count(distinct upper(units)) as unique2\n",
    "from metadata"
   ]
  },
  {
   "cell_type": "code",
   "execution_count": 28,
   "metadata": {
    "tags": []
   },
   "outputs": [
    {
     "data": {
      "text/html": [
       "<table>\n",
       "    <thead>\n",
       "        <tr>\n",
       "            <th>unique</th>\n",
       "            <th>unique2</th>\n",
       "        </tr>\n",
       "    </thead>\n",
       "    <tbody>\n",
       "        <tr>\n",
       "            <td>34</td>\n",
       "            <td>29</td>\n",
       "        </tr>\n",
       "    </tbody>\n",
       "</table>"
      ],
      "text/plain": [
       "+--------+---------+\n",
       "| unique | unique2 |\n",
       "+--------+---------+\n",
       "|   34   |    29   |\n",
       "+--------+---------+"
      ]
     },
     "execution_count": 28,
     "metadata": {},
     "output_type": "execute_result"
    }
   ],
   "source": [
    "# Do not delete/edit this cell!\n",
    "# You must run this cell before running the autograder.\n",
    "query_3b = %sqlcmd snippets query_3b\n",
    "grading_util.save_results(\"result_3b\", query_3b, result_3b)\n",
    "result_3b"
   ]
  },
  {
   "cell_type": "markdown",
   "metadata": {},
   "source": [
    "<br><br>\n",
    "\n",
    "---\n",
    "\n",
    "### Question 3c\n",
    "\n",
    "Arguably, we shouldn't care about these alternative unit labels, *as long as each sensor **class** uses a single value of `units` for all its sensor ids*. After all, maybe the capitalization means something to somebody!\n",
    "\n",
    "Write a SQL query that returns a **single row with one column** of value `true` if the condition (in italics above) holds, or a single row with one column of value `false` otherwise. This column can have an arbitrary name—we will not be checking its name. Please do not hard code this query—we reserve the right to penalize your score if you do so.\n"
   ]
  },
  {
   "cell_type": "code",
   "execution_count": 30,
   "metadata": {
    "tags": []
   },
   "outputs": [
    {
     "data": {
      "text/html": [
       "<span style=\"None\">Running query in &#x27;postgresql://jovyan@127.0.0.1:5432/ucb_buildings&#x27;</span>"
      ],
      "text/plain": [
       "Running query in 'postgresql://jovyan@127.0.0.1:5432/ucb_buildings'"
      ]
     },
     "metadata": {},
     "output_type": "display_data"
    },
    {
     "data": {
      "text/html": [
       "<span style=\"color: green\">1 rows affected.</span>"
      ],
      "text/plain": [
       "1 rows affected."
      ]
     },
     "metadata": {},
     "output_type": "display_data"
    }
   ],
   "source": [
    "%%sql --save query_3c result_3c <<\n",
    "select \n",
    "  not exists (\n",
    "    select class\n",
    "    from (\n",
    "      select class, count(distinct upper(units)) as unit_count\n",
    "      from metadata\n",
    "      group by class\n",
    "      having count(distinct lower(units)) > 1\n",
    "    ) as s\n",
    "  ) as condition;"
   ]
  },
  {
   "cell_type": "code",
   "execution_count": 31,
   "metadata": {
    "tags": []
   },
   "outputs": [
    {
     "data": {
      "text/html": [
       "<table>\n",
       "    <thead>\n",
       "        <tr>\n",
       "            <th>condition</th>\n",
       "        </tr>\n",
       "    </thead>\n",
       "    <tbody>\n",
       "        <tr>\n",
       "            <td>True</td>\n",
       "        </tr>\n",
       "    </tbody>\n",
       "</table>"
      ],
      "text/plain": [
       "+-----------+\n",
       "| condition |\n",
       "+-----------+\n",
       "|    True   |\n",
       "+-----------+"
      ]
     },
     "execution_count": 31,
     "metadata": {},
     "output_type": "execute_result"
    }
   ],
   "source": [
    "# Do not delete/edit this cell!\n",
    "# You must run this cell before running the autograder.\n",
    "query_3c = %sqlcmd snippets query_3c\n",
    "grading_util.save_results(\"result_3c\", query_3c, result_3c)\n",
    "result_3c"
   ]
  },
  {
   "cell_type": "markdown",
   "metadata": {
    "deletable": false,
    "editable": false
   },
   "source": [
    "<!-- END QUESTION -->\n",
    "\n",
    "<br><br>\n",
    "\n",
    "---\n",
    "### Question 3e\n",
    "\n",
    "It turns out this `real_estate_metadata` table is the result of an [OCR scan](https://en.wikipedia.org/wiki/Optical_character_recognition). We will just focus on cleaning up the `location` column for the time being, and leave you to imagine the effort required to do a full cleanup of all columns.\n",
    "\n",
    "We have preloaded Postgres' extension packages for \"fuzzy\" string matching (`fuzzystrmatch`) and trigrams (`pg_trgm`) for you so that you can take advantage of some convenient utility functions. You can use any of the string functions in those packages if you'd like ([as documented here for fuzzystrmatch](https://www.postgresql.org/docs/current/fuzzystrmatch.html) or [here for pg_trgm](https://www.postgresql.org/docs/current/pgtrgm.html)).\n",
    "\n",
    "We also created a lookup table of standardized names, `uc_locations`.\n",
    "\n",
    "Now, using any of the string functions you like (or none at all!), write a SQL query that returns the columns `(building_name, address, location, clean_location)` where `clean_location` contains the best match from `uc_locations.loc_name`. We recommend taking a look at `levenshtein`, `word_similarity`, `metaphone`, but feel free to explore the different functions available. You may find that you can't clean up everything with the string functions, so your view may have to include some specific logic for cases in the data that have to be handled \"manually\". You can choose to do this question in whatever manner you wish as long as your query does not use `CREATE TABLE`, `INSERT INTO`, or `UPDATE`."
   ]
  },
  {
   "cell_type": "code",
   "execution_count": 34,
   "metadata": {
    "tags": []
   },
   "outputs": [
    {
     "data": {
      "text/html": [
       "<span style=\"None\">Running query in &#x27;postgresql://jovyan@127.0.0.1:5432/ucb_buildings&#x27;</span>"
      ],
      "text/plain": [
       "Running query in 'postgresql://jovyan@127.0.0.1:5432/ucb_buildings'"
      ]
     },
     "metadata": {},
     "output_type": "display_data"
    },
    {
     "data": {
      "text/html": [
       "<span style=\"color: green\">5276 rows affected.</span>"
      ],
      "text/plain": [
       "5276 rows affected."
      ]
     },
     "metadata": {},
     "output_type": "display_data"
    }
   ],
   "source": [
    "%%sql --save query_3e result_3e <<\n",
    "select \n",
    "r.building_name,\n",
    "r.address,\n",
    "r.location,\n",
    "u.loc_name as clean_location\n",
    "from \n",
    "real_estate_metadata r\n",
    "left join uc_locations u \n",
    "on u.loc_name = (\n",
    "select loc_name\n",
    "from uc_locations\n",
    "order by word_similarity(loc_name, r.location) desc, \n",
    "levenshtein(loc_name, r.location)\n",
    "limit 1\n",
    ");"
   ]
  },
  {
   "cell_type": "code",
   "execution_count": 35,
   "metadata": {
    "tags": []
   },
   "outputs": [
    {
     "data": {
      "text/html": [
       "<table>\n",
       "    <thead>\n",
       "        <tr>\n",
       "            <th>building_name</th>\n",
       "            <th>address</th>\n",
       "            <th>location</th>\n",
       "            <th>clean_location</th>\n",
       "        </tr>\n",
       "    </thead>\n",
       "    <tbody>\n",
       "        <tr>\n",
       "            <td>CLEARY</td>\n",
       "            <td>2424 CHANNING</td>\n",
       "            <td>BERKELEY</td>\n",
       "            <td>BERKELEY</td>\n",
       "        </tr>\n",
       "        <tr>\n",
       "            <td>WALNUT19 25</td>\n",
       "            <td>1925 WALNUT</td>\n",
       "            <td>BERKELEY</td>\n",
       "            <td>BERKELEY</td>\n",
       "        </tr>\n",
       "        <tr>\n",
       "            <td>ERCHLDE DCNTR</td>\n",
       "            <td>2339 HASTE</td>\n",
       "            <td>BERKELEY</td>\n",
       "            <td>BERKELEY</td>\n",
       "        </tr>\n",
       "        <tr>\n",
       "            <td>MRI MODLR II</td>\n",
       "            <td>CORE 2C1A5M4P-6U0S</td>\n",
       "            <td>BERKELEY</td>\n",
       "            <td>BERKELEY</td>\n",
       "        </tr>\n",
       "        <tr>\n",
       "            <td>UNIV 2154- 60</td>\n",
       "            <td>UNIVERSIT 2Y55</td>\n",
       "            <td>BERKELEY</td>\n",
       "            <td>BERKELEY</td>\n",
       "        </tr>\n",
       "        <tr>\n",
       "            <td>HAVENS</td>\n",
       "            <td>PANORAMI C25 W5 AY</td>\n",
       "            <td>BERKELEY</td>\n",
       "            <td>BERKELEY</td>\n",
       "        </tr>\n",
       "        <tr>\n",
       "            <td>HAVENS GR</td>\n",
       "            <td>PANORAMI 2C9 W99A Y</td>\n",
       "            <td>BERKELEY</td>\n",
       "            <td>BERKELEY</td>\n",
       "        </tr>\n",
       "        <tr>\n",
       "            <td>BOAT HOUSE</td>\n",
       "            <td>GLASCOC K STREET</td>\n",
       "            <td>BERKELEY</td>\n",
       "            <td>BERKELEY</td>\n",
       "        </tr>\n",
       "        <tr>\n",
       "            <td>BOAT EBRIGHT</td>\n",
       "            <td>303 DERBY AVENUE</td>\n",
       "            <td>BERKELEY</td>\n",
       "            <td>BERKELEY</td>\n",
       "        </tr>\n",
       "        <tr>\n",
       "            <td>BOAT SHED</td>\n",
       "            <td>303 DERBY AVENUE</td>\n",
       "            <td>BERKELEY</td>\n",
       "            <td>BERKELEY</td>\n",
       "        </tr>\n",
       "    </tbody>\n",
       "</table>"
      ],
      "text/plain": [
       "+---------------+---------------------+----------+----------------+\n",
       "| building_name |       address       | location | clean_location |\n",
       "+---------------+---------------------+----------+----------------+\n",
       "|     CLEARY    |    2424 CHANNING    | BERKELEY |    BERKELEY    |\n",
       "|  WALNUT19 25  |     1925 WALNUT     | BERKELEY |    BERKELEY    |\n",
       "| ERCHLDE DCNTR |      2339 HASTE     | BERKELEY |    BERKELEY    |\n",
       "|  MRI MODLR II |  CORE 2C1A5M4P-6U0S | BERKELEY |    BERKELEY    |\n",
       "| UNIV 2154- 60 |    UNIVERSIT 2Y55   | BERKELEY |    BERKELEY    |\n",
       "|     HAVENS    |  PANORAMI C25 W5 AY | BERKELEY |    BERKELEY    |\n",
       "|   HAVENS GR   | PANORAMI 2C9 W99A Y | BERKELEY |    BERKELEY    |\n",
       "|   BOAT HOUSE  |   GLASCOC K STREET  | BERKELEY |    BERKELEY    |\n",
       "|  BOAT EBRIGHT |   303 DERBY AVENUE  | BERKELEY |    BERKELEY    |\n",
       "|   BOAT SHED   |   303 DERBY AVENUE  | BERKELEY |    BERKELEY    |\n",
       "+---------------+---------------------+----------+----------------+"
      ]
     },
     "execution_count": 35,
     "metadata": {},
     "output_type": "execute_result"
    }
   ],
   "source": [
    "# Do not delete/edit this cell!\n",
    "# You must run this cell before running the autograder.\n",
    "query_3e = %sqlcmd snippets query_3e\n",
    "grading_util.save_results(\"result_3e\", query_3e, result_3e)\n",
    "result_3e"
   ]
  },
  {
   "cell_type": "markdown",
   "metadata": {},
   "source": [
    "<br/><br/><br/>\n",
    "\n",
    "<hr style=\"border: 5px solid #003262;\" />\n",
    "<hr style=\"border: 1px solid #fdb515;\" />\n",
    "\n",
    "## Question 4: Interpolating Missing Data\n",
    "Real-world data, real-world problems. Our sensors should be reporting every 15 minutes, but you can be sure that we're missing some data. Here we will fix it. It's a bit more involved than what we looked at in class!\n",
    "\n",
    "### Question 4a: Finding missing readings\n",
    "In the `data` table, the `id` column identifies a unique sensor. Sensor readings should be recorded every 15 minutes from every sensor. Are we missing any readings, and if so which ones? We will focus on readings that are separated by at least 30 minutes or more; readings that are \\[0-30) minutes apart are considered to be fine.\n",
    "\n",
    "To answer this question you'll need to read up a bit on [SQL timestamps](https://www.postgresql.org/docs/current/datatype-datetime.html) and [Functions for manipulating datetime types](https://www.postgresql.org/docs/current/functions-datetime.html). Have a particular look at the following:\n",
    "- The [date_trunc](https://www.postgresql.org/docs/current/functions-datetime.html#FUNCTIONS-DATETIME-TRUNC) function will quantize times to the nearest unit of your choosing. For example, to round the `time` field to the nearest minute you can say `date_trunc('minute', time)`. **You'll need to quantize to minutes right away before you worry about missing readings.**\n",
    "- There are various ways to enter constant intervals of time as strings. For example, a 30 minute interval can be written as `interval '30 minutes'` or `'30 minutes'::interval`. See [date/time input](https://www.postgresql.org/docs/current/datatype-datetime.html#DATATYPE-INTERVAL-INPUT) for more info.\n",
    "- You can do arithmetic on date/time types [as documented here](https://www.postgresql.org/docs/current/functions-datetime.html#FUNCTIONS-DATETIME-TRUNC). That will handle all the weird periodicities of clocks and calendars for you. Pay attention to the input and output types of these functions!\n",
    "- Alternatively, the [EXTRACT](https://www.postgresql.org/docs/current/functions-datetime.html#FUNCTIONS-DATETIME-EXTRACT) function is sometimes handy. Note the special `EXTRACT(EPOCH FROM ...)` case. This converts a timestamp into an integer representing the number of seconds since midnight, 1/1/1970 (the dawn of [UNIX time](https://en.wikipedia.org/wiki/Unix_time)!)  You can do normal integer comparisons and arithmetic on the results.\n",
    "- You will need to use the [lag](https://www.geeksforgeeks.org/postgresql-lag-function/) function as the window function.\n",
    "\n",
    "\n",
    "Create a view called `gaps` that augments the `data` schema with three columns:\n",
    "- `lagtime` is the quantized time of the previous reading for that sensor (relative to the current row for a particular row)\n",
    "- `lagvalue` is the value of the previous reading for that sensor\n",
    "- `timediff` is the difference in quantized time between this reading and the previous reading\n",
    "\n",
    "The view should only contain rows where `timediff` is **greater than or equal to 30 minutes**."
   ]
  },
  {
   "cell_type": "markdown",
   "metadata": {},
   "source": [
    "\n"
   ]
  },
  {
   "cell_type": "code",
   "execution_count": 37,
   "metadata": {
    "tags": []
   },
   "outputs": [
    {
     "data": {
      "text/html": [
       "<span style=\"None\">Running query in &#x27;postgresql://jovyan@127.0.0.1:5432/ucb_buildings&#x27;</span>"
      ],
      "text/plain": [
       "Running query in 'postgresql://jovyan@127.0.0.1:5432/ucb_buildings'"
      ]
     },
     "metadata": {},
     "output_type": "display_data"
    },
    {
     "data": {
      "text/html": [
       "<span style=\"color: green\">10 rows affected.</span>"
      ],
      "text/plain": [
       "10 rows affected."
      ]
     },
     "metadata": {},
     "output_type": "display_data"
    }
   ],
   "source": [
    "%%sql --save query_4a result_4a <<\n",
    "CREATE OR REPLACE VIEW gaps AS\n",
    "WITH sensor_readings AS (\n",
    "  SELECT \n",
    "    id,\n",
    "    time,\n",
    "    value,\n",
    "    date_trunc('minute', lag(time) OVER (PARTITION BY id ORDER BY time)) AS lagtime,\n",
    "    lag(value) OVER (PARTITION BY id ORDER BY time) AS lagvalue,\n",
    "    EXTRACT(EPOCH FROM (time - lag(time) OVER (PARTITION BY id ORDER BY time))) / 60 AS timediff\n",
    "  FROM \n",
    "    data\n",
    ")\n",
    "SELECT \n",
    "  id,\n",
    "  time,\n",
    "  value,\n",
    "  lagtime,\n",
    "  lagvalue,\n",
    "  timediff\n",
    "FROM \n",
    "  sensor_readings\n",
    "WHERE \n",
    "  timediff >= 30;\n",
    "SELECT * FROM gaps ORDER BY id, time LIMIT 10;"
   ]
  },
  {
   "cell_type": "code",
   "execution_count": 38,
   "metadata": {
    "tags": []
   },
   "outputs": [
    {
     "data": {
      "text/html": [
       "<table>\n",
       "    <thead>\n",
       "        <tr>\n",
       "            <th>id</th>\n",
       "            <th>time</th>\n",
       "            <th>value</th>\n",
       "            <th>lagtime</th>\n",
       "            <th>lagvalue</th>\n",
       "            <th>timediff</th>\n",
       "        </tr>\n",
       "    </thead>\n",
       "    <tbody>\n",
       "        <tr>\n",
       "            <td>a3d47b1a-985e-5395-a6ee-719dad9b580f</td>\n",
       "            <td>2018-06-13 09:15:00+00:00</td>\n",
       "            <td>0.056</td>\n",
       "            <td>2018-06-13 08:45:00+00:00</td>\n",
       "            <td>0.056</td>\n",
       "            <td>30.0000000000000000</td>\n",
       "        </tr>\n",
       "        <tr>\n",
       "            <td>a3e8e405-0eed-59b6-8747-fe892a6f93de</td>\n",
       "            <td>2018-06-09 04:15:00+00:00</td>\n",
       "            <td>280.8</td>\n",
       "            <td>2018-06-09 03:45:00+00:00</td>\n",
       "            <td>281.6</td>\n",
       "            <td>30.0000000000000000</td>\n",
       "        </tr>\n",
       "        <tr>\n",
       "            <td>a46fb790-028c-5d17-a3e6-7d08daec0c03</td>\n",
       "            <td>2018-06-13 09:15:00+00:00</td>\n",
       "            <td>281.46</td>\n",
       "            <td>2018-06-13 08:45:00+00:00</td>\n",
       "            <td>281.39</td>\n",
       "            <td>30.0000000000000000</td>\n",
       "        </tr>\n",
       "        <tr>\n",
       "            <td>a470ac6d-d448-522b-9b74-8ed27f24de25</td>\n",
       "            <td>2018-06-09 04:15:00+00:00</td>\n",
       "            <td>0.004</td>\n",
       "            <td>2018-06-09 03:45:00+00:00</td>\n",
       "            <td>0.006</td>\n",
       "            <td>30.0000000000000000</td>\n",
       "        </tr>\n",
       "        <tr>\n",
       "            <td>a48e47ab-bbcd-5b39-aaaa-47fbaafe166e</td>\n",
       "            <td>2018-06-07 00:45:02+00:00</td>\n",
       "            <td>27.273</td>\n",
       "            <td>2018-06-07 00:15:00+00:00</td>\n",
       "            <td>30.0</td>\n",
       "            <td>30.0166666666666667</td>\n",
       "        </tr>\n",
       "        <tr>\n",
       "            <td>a48e47ab-bbcd-5b39-aaaa-47fbaafe166e</td>\n",
       "            <td>2018-06-07 18:45:07+00:00</td>\n",
       "            <td>25.0</td>\n",
       "            <td>2018-06-07 18:15:00+00:00</td>\n",
       "            <td>30.0</td>\n",
       "            <td>30.0833333333333333</td>\n",
       "        </tr>\n",
       "        <tr>\n",
       "            <td>a48e47ab-bbcd-5b39-aaaa-47fbaafe166e</td>\n",
       "            <td>2018-06-07 19:45:05+00:00</td>\n",
       "            <td>23.077</td>\n",
       "            <td>2018-06-07 19:15:00+00:00</td>\n",
       "            <td>20.0</td>\n",
       "            <td>30.0333333333333333</td>\n",
       "        </tr>\n",
       "        <tr>\n",
       "            <td>a48e47ab-bbcd-5b39-aaaa-47fbaafe166e</td>\n",
       "            <td>2018-06-07 20:30:04+00:00</td>\n",
       "            <td>23.077</td>\n",
       "            <td>2018-06-07 20:00:00+00:00</td>\n",
       "            <td>30.0</td>\n",
       "            <td>30.0166666666666667</td>\n",
       "        </tr>\n",
       "        <tr>\n",
       "            <td>a48e47ab-bbcd-5b39-aaaa-47fbaafe166e</td>\n",
       "            <td>2018-06-07 21:00:04+00:00</td>\n",
       "            <td>14.286</td>\n",
       "            <td>2018-06-07 20:30:00+00:00</td>\n",
       "            <td>23.077</td>\n",
       "            <td>30.0000000000000000</td>\n",
       "        </tr>\n",
       "        <tr>\n",
       "            <td>a48e47ab-bbcd-5b39-aaaa-47fbaafe166e</td>\n",
       "            <td>2018-06-07 22:15:05+00:00</td>\n",
       "            <td>30.0</td>\n",
       "            <td>2018-06-07 21:45:00+00:00</td>\n",
       "            <td>20.0</td>\n",
       "            <td>30.0500000000000000</td>\n",
       "        </tr>\n",
       "    </tbody>\n",
       "</table>"
      ],
      "text/plain": [
       "+--------------------------------------+---------------------------+--------+---------------------------+----------+---------------------+\n",
       "|                  id                  |            time           | value  |          lagtime          | lagvalue |       timediff      |\n",
       "+--------------------------------------+---------------------------+--------+---------------------------+----------+---------------------+\n",
       "| a3d47b1a-985e-5395-a6ee-719dad9b580f | 2018-06-13 09:15:00+00:00 | 0.056  | 2018-06-13 08:45:00+00:00 |  0.056   | 30.0000000000000000 |\n",
       "| a3e8e405-0eed-59b6-8747-fe892a6f93de | 2018-06-09 04:15:00+00:00 | 280.8  | 2018-06-09 03:45:00+00:00 |  281.6   | 30.0000000000000000 |\n",
       "| a46fb790-028c-5d17-a3e6-7d08daec0c03 | 2018-06-13 09:15:00+00:00 | 281.46 | 2018-06-13 08:45:00+00:00 |  281.39  | 30.0000000000000000 |\n",
       "| a470ac6d-d448-522b-9b74-8ed27f24de25 | 2018-06-09 04:15:00+00:00 | 0.004  | 2018-06-09 03:45:00+00:00 |  0.006   | 30.0000000000000000 |\n",
       "| a48e47ab-bbcd-5b39-aaaa-47fbaafe166e | 2018-06-07 00:45:02+00:00 | 27.273 | 2018-06-07 00:15:00+00:00 |   30.0   | 30.0166666666666667 |\n",
       "| a48e47ab-bbcd-5b39-aaaa-47fbaafe166e | 2018-06-07 18:45:07+00:00 |  25.0  | 2018-06-07 18:15:00+00:00 |   30.0   | 30.0833333333333333 |\n",
       "| a48e47ab-bbcd-5b39-aaaa-47fbaafe166e | 2018-06-07 19:45:05+00:00 | 23.077 | 2018-06-07 19:15:00+00:00 |   20.0   | 30.0333333333333333 |\n",
       "| a48e47ab-bbcd-5b39-aaaa-47fbaafe166e | 2018-06-07 20:30:04+00:00 | 23.077 | 2018-06-07 20:00:00+00:00 |   30.0   | 30.0166666666666667 |\n",
       "| a48e47ab-bbcd-5b39-aaaa-47fbaafe166e | 2018-06-07 21:00:04+00:00 | 14.286 | 2018-06-07 20:30:00+00:00 |  23.077  | 30.0000000000000000 |\n",
       "| a48e47ab-bbcd-5b39-aaaa-47fbaafe166e | 2018-06-07 22:15:05+00:00 |  30.0  | 2018-06-07 21:45:00+00:00 |   20.0   | 30.0500000000000000 |\n",
       "+--------------------------------------+---------------------------+--------+---------------------------+----------+---------------------+"
      ]
     },
     "execution_count": 38,
     "metadata": {},
     "output_type": "execute_result"
    }
   ],
   "source": [
    "# Do not delete/edit this cell!\n",
    "# You must run this cell before running the autograder.\n",
    "query_4a = %sqlcmd snippets query_4a\n",
    "grading_util.save_results(\"result_4a\", query_4a, result_4a)\n",
    "result_4a"
   ]
  },
  {
   "cell_type": "markdown",
   "metadata": {},
   "source": [
    "### Question 4b: Creating tuples for the missing readings\n",
    "Now we need to manufacture new tuples to fill in the gaps. For example, if you had a tuple from id `abc` timestamped at 1PM today and the next tuple in time from `abc` was timestamped at 1:45PM, you'll need to manufacture two new tuples with id `abc` and `NULL` values: one timestamped at 1:15PM and another timestamped at 1:30PM. We will worry about replacing the `NULL` values in the next step.\n",
    "\n"
   ]
  },
  {
   "cell_type": "markdown",
   "metadata": {},
   "source": [
    "\n",
    "\n",
    "Create a view `complete` that contains the tuples from `data` as well as new tuples that fill in any gaps greater than or equal to 30 minutes. Each gap should be filled by adding tuples in increments of 15 minutes from the *start* of the gap, **with `NULL` as the value**. You probably want to use your `gaps` view as well as `generate_series` to do this!\n",
    "\n",
    "**Hint:** the lower and upper bounds in generate_series (in pseudocode) should be `(lagtime + 15 minutes, time - 15 minutes)`."
   ]
  },
  {
   "cell_type": "code",
   "execution_count": 42,
   "metadata": {
    "scrolled": true,
    "tags": []
   },
   "outputs": [
    {
     "data": {
      "text/html": [
       "<span style=\"None\">Running query in &#x27;postgresql://jovyan@127.0.0.1:5432/ucb_buildings&#x27;</span>"
      ],
      "text/plain": [
       "Running query in 'postgresql://jovyan@127.0.0.1:5432/ucb_buildings'"
      ]
     },
     "metadata": {},
     "output_type": "display_data"
    },
    {
     "data": {
      "text/html": [
       "<span style=\"color: green\">100 rows affected.</span>"
      ],
      "text/plain": [
       "100 rows affected."
      ]
     },
     "metadata": {},
     "output_type": "display_data"
    }
   ],
   "source": [
    "%%sql --save query_4b result_4b <<\n",
    "CREATE OR REPLACE VIEW complete AS\n",
    "SELECT \n",
    "  d.id,\n",
    "  d.time,\n",
    "  d.value\n",
    "FROM \n",
    "  data d\n",
    "\n",
    "UNION ALL\n",
    "\n",
    "SELECT \n",
    "  g.id,\n",
    "  gs AS time,\n",
    "  NULL AS value\n",
    "FROM \n",
    "  gaps g,\n",
    "  generate_series(g.lagtime + interval '15 minutes', g.time - interval '15 minutes', interval '15 minutes') gs\n",
    "ORDER BY \n",
    "  id, \n",
    "  time;\n",
    "\n",
    "SELECT * FROM complete ORDER BY id, time LIMIT 100;"
   ]
  },
  {
   "cell_type": "code",
   "execution_count": 43,
   "metadata": {
    "tags": []
   },
   "outputs": [
    {
     "data": {
      "text/html": [
       "<table>\n",
       "    <thead>\n",
       "        <tr>\n",
       "            <th>id</th>\n",
       "            <th>time</th>\n",
       "            <th>value</th>\n",
       "        </tr>\n",
       "    </thead>\n",
       "    <tbody>\n",
       "        <tr>\n",
       "            <td>a3d3326f-20ab-5f1d-97c7-f3084df43f06</td>\n",
       "            <td>2018-06-07 00:00:09+00:00</td>\n",
       "            <td>65085.99</td>\n",
       "        </tr>\n",
       "        <tr>\n",
       "            <td>a3d3326f-20ab-5f1d-97c7-f3084df43f06</td>\n",
       "            <td>2018-06-07 00:15:09+00:00</td>\n",
       "            <td>65086.16</td>\n",
       "        </tr>\n",
       "        <tr>\n",
       "            <td>a3d3326f-20ab-5f1d-97c7-f3084df43f06</td>\n",
       "            <td>2018-06-07 00:30:09+00:00</td>\n",
       "            <td>65086.35</td>\n",
       "        </tr>\n",
       "        <tr>\n",
       "            <td>a3d3326f-20ab-5f1d-97c7-f3084df43f06</td>\n",
       "            <td>2018-06-07 00:45:09+00:00</td>\n",
       "            <td>65086.52</td>\n",
       "        </tr>\n",
       "        <tr>\n",
       "            <td>a3d3326f-20ab-5f1d-97c7-f3084df43f06</td>\n",
       "            <td>2018-06-07 01:00:09+00:00</td>\n",
       "            <td>65086.71</td>\n",
       "        </tr>\n",
       "        <tr>\n",
       "            <td>a3d3326f-20ab-5f1d-97c7-f3084df43f06</td>\n",
       "            <td>2018-06-07 01:15:09+00:00</td>\n",
       "            <td>65086.89</td>\n",
       "        </tr>\n",
       "        <tr>\n",
       "            <td>a3d3326f-20ab-5f1d-97c7-f3084df43f06</td>\n",
       "            <td>2018-06-07 01:30:09+00:00</td>\n",
       "            <td>65087.07</td>\n",
       "        </tr>\n",
       "        <tr>\n",
       "            <td>a3d3326f-20ab-5f1d-97c7-f3084df43f06</td>\n",
       "            <td>2018-06-07 01:45:09+00:00</td>\n",
       "            <td>65087.25</td>\n",
       "        </tr>\n",
       "        <tr>\n",
       "            <td>a3d3326f-20ab-5f1d-97c7-f3084df43f06</td>\n",
       "            <td>2018-06-07 02:00:09+00:00</td>\n",
       "            <td>65087.43</td>\n",
       "        </tr>\n",
       "        <tr>\n",
       "            <td>a3d3326f-20ab-5f1d-97c7-f3084df43f06</td>\n",
       "            <td>2018-06-07 02:15:09+00:00</td>\n",
       "            <td>65087.62</td>\n",
       "        </tr>\n",
       "    </tbody>\n",
       "</table>"
      ],
      "text/plain": [
       "+--------------------------------------+---------------------------+----------+\n",
       "|                  id                  |            time           |  value   |\n",
       "+--------------------------------------+---------------------------+----------+\n",
       "| a3d3326f-20ab-5f1d-97c7-f3084df43f06 | 2018-06-07 00:00:09+00:00 | 65085.99 |\n",
       "| a3d3326f-20ab-5f1d-97c7-f3084df43f06 | 2018-06-07 00:15:09+00:00 | 65086.16 |\n",
       "| a3d3326f-20ab-5f1d-97c7-f3084df43f06 | 2018-06-07 00:30:09+00:00 | 65086.35 |\n",
       "| a3d3326f-20ab-5f1d-97c7-f3084df43f06 | 2018-06-07 00:45:09+00:00 | 65086.52 |\n",
       "| a3d3326f-20ab-5f1d-97c7-f3084df43f06 | 2018-06-07 01:00:09+00:00 | 65086.71 |\n",
       "| a3d3326f-20ab-5f1d-97c7-f3084df43f06 | 2018-06-07 01:15:09+00:00 | 65086.89 |\n",
       "| a3d3326f-20ab-5f1d-97c7-f3084df43f06 | 2018-06-07 01:30:09+00:00 | 65087.07 |\n",
       "| a3d3326f-20ab-5f1d-97c7-f3084df43f06 | 2018-06-07 01:45:09+00:00 | 65087.25 |\n",
       "| a3d3326f-20ab-5f1d-97c7-f3084df43f06 | 2018-06-07 02:00:09+00:00 | 65087.43 |\n",
       "| a3d3326f-20ab-5f1d-97c7-f3084df43f06 | 2018-06-07 02:15:09+00:00 | 65087.62 |\n",
       "+--------------------------------------+---------------------------+----------+"
      ]
     },
     "execution_count": 43,
     "metadata": {},
     "output_type": "execute_result"
    }
   ],
   "source": [
    "# Do not delete/edit this cell!\n",
    "# You must run this cell before running the autograder.\n",
    "query_4b = %sqlcmd snippets query_4b\n",
    "grading_util.save_results(\"result_4b\", query_4b, result_4b)\n",
    "result_4b"
   ]
  },
  {
   "cell_type": "markdown",
   "metadata": {},
   "source": [
    "### Question 4c: Linear Interpolation\n",
    "\n",
    "\n",
    "\n",
    "Create a view `likely_data` that contains all the tuples from `complete`, with an additional column called `interpolated` that contains a copy of `value` if it is non-NULL, otherwise an interpolated value based on linear interpolation **per sensor id over time**. Please **retain all additional columns created from forward and backward passes**. (There should be 10 columns in the view—the order of the columns does not matter.) The three cells below correspond to the forward, backward, and final passes from lecture."
   ]
  },
  {
   "cell_type": "code",
   "execution_count": 45,
   "metadata": {
    "tags": []
   },
   "outputs": [
    {
     "data": {
      "text/html": [
       "<span style=\"None\">Running query in &#x27;postgresql://jovyan@127.0.0.1:5432/ucb_buildings&#x27;</span>"
      ],
      "text/plain": [
       "Running query in 'postgresql://jovyan@127.0.0.1:5432/ucb_buildings'"
      ]
     },
     "metadata": {},
     "output_type": "display_data"
    },
    {
     "data": {
      "text/html": [
       "<table>\n",
       "    <thead>\n",
       "        <tr>\n",
       "        </tr>\n",
       "    </thead>\n",
       "    <tbody>\n",
       "    </tbody>\n",
       "</table>"
      ],
      "text/plain": [
       "++\n",
       "||\n",
       "++\n",
       "++"
      ]
     },
     "execution_count": 45,
     "metadata": {},
     "output_type": "execute_result"
    }
   ],
   "source": [
    "%%sql\n",
    "CREATE OR REPLACE VIEW forward AS\n",
    "SELECT *,\n",
    "    SUM(CASE WHEN value IS NULL THEN 0 ELSE 1 END)\n",
    "        OVER (ORDER BY id, time) AS run,\n",
    "    coalesce_agg(value) OVER (ORDER BY id, time) AS run_start,\n",
    "    CASE WHEN value IS NULL THEN lead(value, 1) OVER (ORDER BY id, time) ELSE NULL\n",
    "    END as next\n",
    "FROM complete_provided;"
   ]
  },
  {
   "cell_type": "code",
   "execution_count": 46,
   "metadata": {
    "tags": []
   },
   "outputs": [
    {
     "data": {
      "text/html": [
       "<span style=\"None\">Running query in &#x27;postgresql://jovyan@127.0.0.1:5432/ucb_buildings&#x27;</span>"
      ],
      "text/plain": [
       "Running query in 'postgresql://jovyan@127.0.0.1:5432/ucb_buildings'"
      ]
     },
     "metadata": {},
     "output_type": "display_data"
    },
    {
     "data": {
      "text/html": [
       "<table>\n",
       "    <thead>\n",
       "        <tr>\n",
       "        </tr>\n",
       "    </thead>\n",
       "    <tbody>\n",
       "    </tbody>\n",
       "</table>"
      ],
      "text/plain": [
       "++\n",
       "||\n",
       "++\n",
       "++"
      ]
     },
     "execution_count": 46,
     "metadata": {},
     "output_type": "execute_result"
    }
   ],
   "source": [
    "%%sql\n",
    "CREATE OR REPLACE VIEW backward AS\n",
    "SELECT *, CASE WHEN value is not null then value else coalesce_agg(next) over (partition by run order by id, time desc) end as run_end,\n",
    "count(*) over (partition by run) as run_size, count(*) over (partition by run order by id,time) as run_rank \n",
    "from forward;"
   ]
  },
  {
   "cell_type": "code",
   "execution_count": 47,
   "metadata": {
    "tags": []
   },
   "outputs": [
    {
     "data": {
      "text/html": [
       "<span style=\"None\">Running query in &#x27;postgresql://jovyan@127.0.0.1:5432/ucb_buildings&#x27;</span>"
      ],
      "text/plain": [
       "Running query in 'postgresql://jovyan@127.0.0.1:5432/ucb_buildings'"
      ]
     },
     "metadata": {},
     "output_type": "display_data"
    },
    {
     "data": {
      "text/html": [
       "<span style=\"color: green\">100 rows affected.</span>"
      ],
      "text/plain": [
       "100 rows affected."
      ]
     },
     "metadata": {},
     "output_type": "display_data"
    }
   ],
   "source": [
    "%%sql --save query_4c result_4c <<\n",
    "CREATE OR REPLACE VIEW likely_data AS\n",
    "select *, run_start + (run_rank -1) * (run_end - run_start)/run_size as interpolated\n",
    "from backward\n",
    ";\n",
    "SELECT * FROM likely_data WHERE run_size > 2 ORDER BY id, time LIMIT 100;"
   ]
  },
  {
   "cell_type": "code",
   "execution_count": 48,
   "metadata": {
    "tags": []
   },
   "outputs": [
    {
     "data": {
      "text/html": [
       "<table>\n",
       "    <thead>\n",
       "        <tr>\n",
       "            <th>id</th>\n",
       "            <th>time</th>\n",
       "            <th>value</th>\n",
       "            <th>run</th>\n",
       "            <th>run_start</th>\n",
       "            <th>next</th>\n",
       "            <th>run_end</th>\n",
       "            <th>run_size</th>\n",
       "            <th>run_rank</th>\n",
       "            <th>interpolated</th>\n",
       "        </tr>\n",
       "    </thead>\n",
       "    <tbody>\n",
       "        <tr>\n",
       "            <td>a49cd747-43c3-536d-b3ee-ec9c087b9317</td>\n",
       "            <td>2018-06-08 10:00:02+00:00</td>\n",
       "            <td>1.7230274441963545</td>\n",
       "            <td>10646</td>\n",
       "            <td>1.7230274441963545</td>\n",
       "            <td>None</td>\n",
       "            <td>1.7230274441963545</td>\n",
       "            <td>3</td>\n",
       "            <td>1</td>\n",
       "            <td>1.7230274441963545</td>\n",
       "        </tr>\n",
       "        <tr>\n",
       "            <td>a49cd747-43c3-536d-b3ee-ec9c087b9317</td>\n",
       "            <td>2018-06-08 10:15:00+00:00</td>\n",
       "            <td>None</td>\n",
       "            <td>10646</td>\n",
       "            <td>1.7230274441963545</td>\n",
       "            <td>None</td>\n",
       "            <td>5.372979444921953</td>\n",
       "            <td>3</td>\n",
       "            <td>2</td>\n",
       "            <td>2.939678111104887</td>\n",
       "        </tr>\n",
       "        <tr>\n",
       "            <td>a49cd747-43c3-536d-b3ee-ec9c087b9317</td>\n",
       "            <td>2018-06-08 10:30:00+00:00</td>\n",
       "            <td>None</td>\n",
       "            <td>10646</td>\n",
       "            <td>1.7230274441963545</td>\n",
       "            <td>5.372979444921953</td>\n",
       "            <td>5.372979444921953</td>\n",
       "            <td>3</td>\n",
       "            <td>3</td>\n",
       "            <td>4.156328778013419</td>\n",
       "        </tr>\n",
       "        <tr>\n",
       "            <td>a49cd747-43c3-536d-b3ee-ec9c087b9317</td>\n",
       "            <td>2018-06-08 19:45:03+00:00</td>\n",
       "            <td>0.6144687255293491</td>\n",
       "            <td>10683</td>\n",
       "            <td>0.6144687255293491</td>\n",
       "            <td>None</td>\n",
       "            <td>0.6144687255293491</td>\n",
       "            <td>3</td>\n",
       "            <td>1</td>\n",
       "            <td>0.6144687255293491</td>\n",
       "        </tr>\n",
       "        <tr>\n",
       "            <td>a49cd747-43c3-536d-b3ee-ec9c087b9317</td>\n",
       "            <td>2018-06-08 20:00:00+00:00</td>\n",
       "            <td>None</td>\n",
       "            <td>10683</td>\n",
       "            <td>0.6144687255293491</td>\n",
       "            <td>None</td>\n",
       "            <td>8.10343967255239</td>\n",
       "            <td>3</td>\n",
       "            <td>2</td>\n",
       "            <td>3.1107923745370294</td>\n",
       "        </tr>\n",
       "        <tr>\n",
       "            <td>a49cd747-43c3-536d-b3ee-ec9c087b9317</td>\n",
       "            <td>2018-06-08 20:15:00+00:00</td>\n",
       "            <td>None</td>\n",
       "            <td>10683</td>\n",
       "            <td>0.6144687255293491</td>\n",
       "            <td>8.10343967255239</td>\n",
       "            <td>8.10343967255239</td>\n",
       "            <td>3</td>\n",
       "            <td>3</td>\n",
       "            <td>5.60711602354471</td>\n",
       "        </tr>\n",
       "        <tr>\n",
       "            <td>a49cd747-43c3-536d-b3ee-ec9c087b9317</td>\n",
       "            <td>2018-06-09 01:00:03+00:00</td>\n",
       "            <td>2.196116776472188</td>\n",
       "            <td>10702</td>\n",
       "            <td>2.196116776472188</td>\n",
       "            <td>None</td>\n",
       "            <td>2.196116776472188</td>\n",
       "            <td>3</td>\n",
       "            <td>1</td>\n",
       "            <td>2.196116776472188</td>\n",
       "        </tr>\n",
       "        <tr>\n",
       "            <td>a49cd747-43c3-536d-b3ee-ec9c087b9317</td>\n",
       "            <td>2018-06-09 01:15:00+00:00</td>\n",
       "            <td>None</td>\n",
       "            <td>10702</td>\n",
       "            <td>2.196116776472188</td>\n",
       "            <td>None</td>\n",
       "            <td>1.4019035586474615</td>\n",
       "            <td>3</td>\n",
       "            <td>2</td>\n",
       "            <td>1.931379037197279</td>\n",
       "        </tr>\n",
       "        <tr>\n",
       "            <td>a49cd747-43c3-536d-b3ee-ec9c087b9317</td>\n",
       "            <td>2018-06-09 01:30:00+00:00</td>\n",
       "            <td>None</td>\n",
       "            <td>10702</td>\n",
       "            <td>2.196116776472188</td>\n",
       "            <td>1.4019035586474615</td>\n",
       "            <td>1.4019035586474615</td>\n",
       "            <td>3</td>\n",
       "            <td>3</td>\n",
       "            <td>1.6666412979223701</td>\n",
       "        </tr>\n",
       "        <tr>\n",
       "            <td>a49cd747-43c3-536d-b3ee-ec9c087b9317</td>\n",
       "            <td>2018-06-10 05:00:02+00:00</td>\n",
       "            <td>4.692789500399002</td>\n",
       "            <td>10813</td>\n",
       "            <td>4.692789500399002</td>\n",
       "            <td>None</td>\n",
       "            <td>4.692789500399002</td>\n",
       "            <td>3</td>\n",
       "            <td>1</td>\n",
       "            <td>4.692789500399002</td>\n",
       "        </tr>\n",
       "    </tbody>\n",
       "</table>"
      ],
      "text/plain": [
       "+--------------------------------------+---------------------------+--------------------+-------+--------------------+--------------------+--------------------+----------+----------+--------------------+\n",
       "|                  id                  |            time           |       value        |  run  |     run_start      |        next        |      run_end       | run_size | run_rank |    interpolated    |\n",
       "+--------------------------------------+---------------------------+--------------------+-------+--------------------+--------------------+--------------------+----------+----------+--------------------+\n",
       "| a49cd747-43c3-536d-b3ee-ec9c087b9317 | 2018-06-08 10:00:02+00:00 | 1.7230274441963545 | 10646 | 1.7230274441963545 |        None        | 1.7230274441963545 |    3     |    1     | 1.7230274441963545 |\n",
       "| a49cd747-43c3-536d-b3ee-ec9c087b9317 | 2018-06-08 10:15:00+00:00 |        None        | 10646 | 1.7230274441963545 |        None        | 5.372979444921953  |    3     |    2     | 2.939678111104887  |\n",
       "| a49cd747-43c3-536d-b3ee-ec9c087b9317 | 2018-06-08 10:30:00+00:00 |        None        | 10646 | 1.7230274441963545 | 5.372979444921953  | 5.372979444921953  |    3     |    3     | 4.156328778013419  |\n",
       "| a49cd747-43c3-536d-b3ee-ec9c087b9317 | 2018-06-08 19:45:03+00:00 | 0.6144687255293491 | 10683 | 0.6144687255293491 |        None        | 0.6144687255293491 |    3     |    1     | 0.6144687255293491 |\n",
       "| a49cd747-43c3-536d-b3ee-ec9c087b9317 | 2018-06-08 20:00:00+00:00 |        None        | 10683 | 0.6144687255293491 |        None        |  8.10343967255239  |    3     |    2     | 3.1107923745370294 |\n",
       "| a49cd747-43c3-536d-b3ee-ec9c087b9317 | 2018-06-08 20:15:00+00:00 |        None        | 10683 | 0.6144687255293491 |  8.10343967255239  |  8.10343967255239  |    3     |    3     |  5.60711602354471  |\n",
       "| a49cd747-43c3-536d-b3ee-ec9c087b9317 | 2018-06-09 01:00:03+00:00 | 2.196116776472188  | 10702 | 2.196116776472188  |        None        | 2.196116776472188  |    3     |    1     | 2.196116776472188  |\n",
       "| a49cd747-43c3-536d-b3ee-ec9c087b9317 | 2018-06-09 01:15:00+00:00 |        None        | 10702 | 2.196116776472188  |        None        | 1.4019035586474615 |    3     |    2     | 1.931379037197279  |\n",
       "| a49cd747-43c3-536d-b3ee-ec9c087b9317 | 2018-06-09 01:30:00+00:00 |        None        | 10702 | 2.196116776472188  | 1.4019035586474615 | 1.4019035586474615 |    3     |    3     | 1.6666412979223701 |\n",
       "| a49cd747-43c3-536d-b3ee-ec9c087b9317 | 2018-06-10 05:00:02+00:00 | 4.692789500399002  | 10813 | 4.692789500399002  |        None        | 4.692789500399002  |    3     |    1     | 4.692789500399002  |\n",
       "+--------------------------------------+---------------------------+--------------------+-------+--------------------+--------------------+--------------------+----------+----------+--------------------+"
      ]
     },
     "execution_count": 48,
     "metadata": {},
     "output_type": "execute_result"
    }
   ],
   "source": [
    "# Do not delete/edit this cell!\n",
    "# You must run this cell before running the autograder.\n",
    "query_4c = %sqlcmd snippets query_4c\n",
    "grading_util.save_results(\"result_4c\", query_4c, result_4c)\n",
    "result_4c"
   ]
  },
  {
   "cell_type": "markdown",
   "metadata": {},
   "source": [
    "<hr style=\"border: 5px solid #003262;\" />\n",
    "<hr style=\"border: 1px solid #fdb515;\" />"
   ]
  }
 ],
 "metadata": {
  "anaconda-cloud": {},
  "kernelspec": {
   "display_name": "Python 3 (ipykernel)",
   "language": "python",
   "name": "python3"
  },
  "language_info": {
   "codemirror_mode": {
    "name": "ipython",
    "version": 3
   },
   "file_extension": ".py",
   "mimetype": "text/x-python",
   "name": "python",
   "nbconvert_exporter": "python",
   "pygments_lexer": "ipython3",
   "version": "3.11.4"
  },
  "otter": {
   "OK_FORMAT": true,
   "tests": {
    "q1b": {
     "name": "q1b",
     "points": 1,
     "suites": [
      {
       "cases": [
        {
         "code": ">>> query_1b, result_1b_df = grading_util.load_results(\"result_1b\")\n>>> result_1b_df.shape == (5, 2)\nTrue",
         "hidden": false,
         "locked": false
        },
        {
         "code": ">>> query_1b, result_1b_df = grading_util.load_results(\"result_1b\")\n>>> len(str(result_1b_df.iloc[0, 1])) == 889\nTrue",
         "hidden": false,
         "locked": false
        }
       ],
       "scored": true,
       "setup": "",
       "teardown": "",
       "type": "doctest"
      }
     ]
    },
    "q1c": {
     "name": "q1c",
     "points": 1,
     "suites": [
      {
       "cases": [
        {
         "code": ">>> query_1c, result_1c_df = grading_util.load_results(\"result_1c\")\n>>> result_1c_df.shape == (4, 2)\nTrue",
         "hidden": false,
         "locked": false
        },
        {
         "code": ">>> query_1c, result_1c_df = grading_util.load_results(\"result_1c\")\n>>> len(str(result_1c_df.iloc[0, 1])) == 122\nTrue",
         "hidden": false,
         "locked": false
        }
       ],
       "scored": true,
       "setup": "",
       "teardown": "",
       "type": "doctest"
      }
     ]
    },
    "q2a": {
     "name": "q2a",
     "points": 3,
     "suites": [
      {
       "cases": [
        {
         "code": ">>> query_2a, result_2a_df = grading_util.load_results(\"result_2a\")\n>>> result_2a_df.shape == (100, 6)\nTrue",
         "hidden": false,
         "locked": false
        },
        {
         "code": ">>> query_2a, result_2a_df = grading_util.load_results(\"result_2a\")\n>>> result_2a_df.iloc[:50]['median'].sum() == 35684.7\nTrue",
         "hidden": false,
         "locked": false
        },
        {
         "code": ">>> query_2a, result_2a_df = grading_util.load_results(\"result_2a\")\n>>> np.isclose(result_2a_df.iloc[:50]['mad'].sum(), 806.3000000000022)\nTrue",
         "hidden": false,
         "locked": false
        }
       ],
       "scored": true,
       "setup": "",
       "teardown": "",
       "type": "doctest"
      }
     ]
    },
    "q2b": {
     "name": "q2b",
     "points": 1,
     "suites": [
      {
       "cases": [
        {
         "code": ">>> query_2b, result_2b_df = grading_util.load_results(\"result_2b\")\n>>> result_2b_df.shape == (100, 7)\nTrue",
         "hidden": false,
         "locked": false
        },
        {
         "code": ">>> query_2b, result_2b_df = grading_util.load_results(\"result_2b\")\n>>> np.isclose(result_2b_df.iloc[:50, -1].sum(), 39270.961140000014)\nTrue",
         "hidden": false,
         "locked": false
        }
       ],
       "scored": true,
       "setup": "",
       "teardown": "",
       "type": "doctest"
      }
     ]
    },
    "q3b": {
     "name": "q3b",
     "points": 1,
     "suites": [
      {
       "cases": [
        {
         "code": ">>> query_3b, result_3b_df = grading_util.load_results(\"result_3b\")\n>>> 0 <= result_3b_df.iloc[0, 0] <= 50\nTrue",
         "hidden": false,
         "locked": false
        },
        {
         "code": ">>> query_3b, result_3b_df = grading_util.load_results(\"result_3b\")\n>>> 0 <= result_3b_df.iloc[0, 1] <= 50\nTrue",
         "hidden": false,
         "locked": false
        }
       ],
       "scored": true,
       "setup": "",
       "teardown": "",
       "type": "doctest"
      }
     ]
    },
    "q3c": {
     "name": "q3c",
     "points": 1,
     "suites": [
      {
       "cases": [
        {
         "code": ">>> query_3c, result_3c_df = grading_util.load_results(\"result_3c\")\n>>> result_3c_df.iloc[0, 0] in [True, False]\nTrue",
         "hidden": false,
         "locked": false
        },
        {
         "code": ">>> query_3c, result_3c_df = grading_util.load_results(\"result_3c\")\n>>> result_3c_df.shape == (1, 1)\nTrue",
         "hidden": false,
         "locked": false
        }
       ],
       "scored": true,
       "setup": "",
       "teardown": "",
       "type": "doctest"
      }
     ]
    },
    "q3e": {
     "name": "q3e",
     "points": 2,
     "suites": [
      {
       "cases": [
        {
         "code": ">>> query_3e, result_3e_df = grading_util.load_results(\"result_3e\")\n>>> result_3e_df.sort_values(['clean_location', 'building_name', 'address']).shape == (5276, 4)\nTrue",
         "hidden": false,
         "locked": false
        },
        {
         "code": ">>> query_3e, result_3e_df = grading_util.load_results(\"result_3e\")\n>>> result_3e_df.sort_values(['clean_location', 'building_name', 'address'])['clean_location'].iloc[-1] == 'SYSTEMWIDE'\nTrue",
         "hidden": false,
         "locked": false
        },
        {
         "code": ">>> query_3e, result_3e_df = grading_util.load_results(\"result_3e\")\n>>> result_3e_df.sort_values(['clean_location', 'building_name', 'address'])['clean_location'].iloc[600] == 'BERKELEY'\nTrue",
         "hidden": false,
         "locked": false
        }
       ],
       "scored": true,
       "setup": "",
       "teardown": "",
       "type": "doctest"
      }
     ]
    },
    "q4a": {
     "name": "q4a",
     "points": 2,
     "suites": [
      {
       "cases": [
        {
         "code": ">>> query_4a, result_4a_df = grading_util.load_results(\"result_4a\")\n>>> result_4a_df.shape == (10, 6)\nTrue",
         "hidden": false,
         "locked": false
        },
        {
         "code": ">>> query_4a, result_4a_df = grading_util.load_results(\"result_4a\")\n>>> result_4a_df.iloc[:5]['lagvalue'].sum() == 593.052\nTrue",
         "hidden": false,
         "locked": false
        }
       ],
       "scored": true,
       "setup": "",
       "teardown": "",
       "type": "doctest"
      }
     ]
    },
    "q4b": {
     "name": "q4b",
     "points": 2,
     "suites": [
      {
       "cases": [
        {
         "code": ">>> query_4b, result_4b_df = grading_util.load_results(\"result_4b\")\n>>> result_4b_df.shape == (100, 3)\nTrue",
         "hidden": false,
         "locked": false
        },
        {
         "code": ">>> query_4b, result_4b_df = grading_util.load_results(\"result_4b\")\n>>> result_4b_df.iloc[:50]['value'].sum() == 3254484.79\nTrue",
         "hidden": false,
         "locked": false
        }
       ],
       "scored": true,
       "setup": "",
       "teardown": "",
       "type": "doctest"
      }
     ]
    },
    "q4c": {
     "name": "q4c",
     "points": 3,
     "suites": [
      {
       "cases": [
        {
         "code": ">>> query_4c, result_4c_df = grading_util.load_results(\"result_4c\")\n>>> result_4c_df.shape == (100, 10)\nTrue",
         "hidden": false,
         "locked": false
        },
        {
         "code": ">>> query_4c, result_4c_df = grading_util.load_results(\"result_4c\")\n>>> np.isclose(result_4c_df.iloc[:50]['interpolated'].sum(), 195.94525) or np.isclose(result_4c_df.iloc[:50]['interpolated'].sum(), 369.7514880904479)\nTrue",
         "hidden": false,
         "locked": false
        }
       ],
       "scored": true,
       "setup": "",
       "teardown": "",
       "type": "doctest"
      }
     ]
    },
    "q5a": {
     "name": "q5a",
     "points": 1,
     "suites": [
      {
       "cases": [
        {
         "code": ">>> query_5a, result_5a_df = grading_util.load_results(\"result_5a\")\n>>> result_5a_df.iloc[0, 0] in [True, False]\nTrue",
         "hidden": false,
         "locked": false
        }
       ],
       "scored": true,
       "setup": "",
       "teardown": "",
       "type": "doctest"
      }
     ]
    },
    "q5b": {
     "name": "q5b",
     "points": 1,
     "suites": [
      {
       "cases": [
        {
         "code": ">>> query_5b, result_5b_df = grading_util.load_results(\"result_5b\")\n>>> result_5b_df.iloc[0, 0] in [True, False]\nTrue",
         "hidden": false,
         "locked": false
        }
       ],
       "scored": true,
       "setup": "",
       "teardown": "",
       "type": "doctest"
      }
     ]
    },
    "q5c": {
     "name": "q5c",
     "points": 3,
     "suites": [
      {
       "cases": [
        {
         "code": ">>> query_5c, result_5c_df = grading_util.load_results(\"result_5c\")\n>>> result_5c_df.shape == (2, 2)\nTrue",
         "hidden": false,
         "locked": false
        },
        {
         "code": ">>> query_5c, result_5c_df = grading_util.load_results(\"result_5c\")\n>>> 0 <= result_5c_df.iloc[0, 1] <= 100\nTrue",
         "hidden": false,
         "locked": false
        },
        {
         "code": ">>> query_5c, result_5c_df = grading_util.load_results(\"result_5c\")\n>>> 3000 <= result_5c_df.iloc[1, 1] <= 4000\nTrue",
         "hidden": false,
         "locked": false
        }
       ],
       "scored": true,
       "setup": "",
       "teardown": "",
       "type": "doctest"
      }
     ]
    }
   }
  }
 },
 "nbformat": 4,
 "nbformat_minor": 4
}
